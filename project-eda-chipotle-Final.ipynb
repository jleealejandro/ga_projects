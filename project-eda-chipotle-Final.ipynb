{
 "cells": [
  {
   "cell_type": "markdown",
   "metadata": {},
   "source": [
    "<img src=\"http://imgur.com/1ZcRyrc.png\" style=\"float: left; margin: 20px; height: 55px\">\n",
    "\n",
    "# Project 2: Analyzing Chipotle Data\n",
    "\n",
    "_Author: Joseph Nelson (DC)_\n",
    "\n",
    "---"
   ]
  },
  {
   "cell_type": "markdown",
   "metadata": {},
   "source": [
    "For Project 2, you will complete a series of exercises exploring [order data from Chipotle](https://github.com/TheUpshot/chipotle), compliments of _The New York Times'_ \"The Upshot.\"\n",
    "\n",
    "For these exercises, you will conduct basic exploratory data analysis (Pandas not required) to understand the essentials of Chipotle's order data: how many orders are being made, the average price per order, how many different ingredients are used, etc. These allow you to practice business analysis skills while also becoming comfortable with Python."
   ]
  },
  {
   "cell_type": "markdown",
   "metadata": {},
   "source": [
    "---\n",
    "\n",
    "## Basic Level"
   ]
  },
  {
   "cell_type": "markdown",
   "metadata": {},
   "source": [
    "### Part 1: Read in the file with `csv.reader()` and store it in an object called `file_nested_list`.\n",
    "\n",
    "Hint: This is a TSV (tab-separated value) file, and `csv.reader()` needs to be told [how to handle it](https://docs.python.org/2/library/csv.html)."
   ]
  },
  {
   "cell_type": "code",
   "execution_count": 57,
   "metadata": {},
   "outputs": [],
   "source": [
    "import csv\n",
    "from collections import namedtuple   \n",
    "import numpy as np\n",
    "import pandas as pd\n",
    "import os\n",
    "import matplotlib.pyplot as plt\n",
    "import seaborn as sns\n",
    "\n",
    "DATA_FILE = './data/chipotle.tsv'"
   ]
  },
  {
   "cell_type": "markdown",
   "metadata": {},
   "source": [
    "### Part 2: Separate `file_nested_list` into the `header` and the `data`.\n"
   ]
  },
  {
   "cell_type": "code",
   "execution_count": 58,
   "metadata": {},
   "outputs": [],
   "source": [
    "df = pd.read_csv(DATA_FILE, sep='\\t')"
   ]
  },
  {
   "cell_type": "code",
   "execution_count": 59,
   "metadata": {},
   "outputs": [],
   "source": [
    "with open(DATA_FILE, newline=\"\") as f: \n",
    "    file_nested_list = [row for row in csv.reader(f, delimiter= \"\\t\")]"
   ]
  },
  {
   "cell_type": "code",
   "execution_count": 60,
   "metadata": {},
   "outputs": [],
   "source": [
    "header = file_nested_list[0]\n",
    "data = file_nested_list[1:]"
   ]
  },
  {
   "cell_type": "code",
   "execution_count": 51,
   "metadata": {},
   "outputs": [
    {
     "data": {
      "text/html": [
       "<div>\n",
       "<style scoped>\n",
       "    .dataframe tbody tr th:only-of-type {\n",
       "        vertical-align: middle;\n",
       "    }\n",
       "\n",
       "    .dataframe tbody tr th {\n",
       "        vertical-align: top;\n",
       "    }\n",
       "\n",
       "    .dataframe thead th {\n",
       "        text-align: right;\n",
       "    }\n",
       "</style>\n",
       "<table border=\"1\" class=\"dataframe\">\n",
       "  <thead>\n",
       "    <tr style=\"text-align: right;\">\n",
       "      <th></th>\n",
       "      <th>order_id</th>\n",
       "      <th>quantity</th>\n",
       "      <th>item_name</th>\n",
       "      <th>choice_description</th>\n",
       "      <th>item_price</th>\n",
       "    </tr>\n",
       "  </thead>\n",
       "  <tbody>\n",
       "    <tr>\n",
       "      <th>0</th>\n",
       "      <td>1</td>\n",
       "      <td>1</td>\n",
       "      <td>Chips and Fresh Tomato Salsa</td>\n",
       "      <td>NaN</td>\n",
       "      <td>$2.39</td>\n",
       "    </tr>\n",
       "    <tr>\n",
       "      <th>1</th>\n",
       "      <td>1</td>\n",
       "      <td>1</td>\n",
       "      <td>Izze</td>\n",
       "      <td>[Clementine]</td>\n",
       "      <td>$3.39</td>\n",
       "    </tr>\n",
       "    <tr>\n",
       "      <th>2</th>\n",
       "      <td>1</td>\n",
       "      <td>1</td>\n",
       "      <td>Nantucket Nectar</td>\n",
       "      <td>[Apple]</td>\n",
       "      <td>$3.39</td>\n",
       "    </tr>\n",
       "    <tr>\n",
       "      <th>3</th>\n",
       "      <td>1</td>\n",
       "      <td>1</td>\n",
       "      <td>Chips and Tomatillo-Green Chili Salsa</td>\n",
       "      <td>NaN</td>\n",
       "      <td>$2.39</td>\n",
       "    </tr>\n",
       "    <tr>\n",
       "      <th>4</th>\n",
       "      <td>2</td>\n",
       "      <td>2</td>\n",
       "      <td>Chicken Bowl</td>\n",
       "      <td>[Tomatillo-Red Chili Salsa (Hot), [Black Beans...</td>\n",
       "      <td>$16.98</td>\n",
       "    </tr>\n",
       "    <tr>\n",
       "      <th>5</th>\n",
       "      <td>3</td>\n",
       "      <td>1</td>\n",
       "      <td>Chicken Bowl</td>\n",
       "      <td>[Fresh Tomato Salsa (Mild), [Rice, Cheese, Sou...</td>\n",
       "      <td>$10.98</td>\n",
       "    </tr>\n",
       "    <tr>\n",
       "      <th>6</th>\n",
       "      <td>3</td>\n",
       "      <td>1</td>\n",
       "      <td>Side of Chips</td>\n",
       "      <td>NaN</td>\n",
       "      <td>$1.69</td>\n",
       "    </tr>\n",
       "    <tr>\n",
       "      <th>7</th>\n",
       "      <td>4</td>\n",
       "      <td>1</td>\n",
       "      <td>Steak Burrito</td>\n",
       "      <td>[Tomatillo Red Chili Salsa, [Fajita Vegetables...</td>\n",
       "      <td>$11.75</td>\n",
       "    </tr>\n",
       "    <tr>\n",
       "      <th>8</th>\n",
       "      <td>4</td>\n",
       "      <td>1</td>\n",
       "      <td>Steak Soft Tacos</td>\n",
       "      <td>[Tomatillo Green Chili Salsa, [Pinto Beans, Ch...</td>\n",
       "      <td>$9.25</td>\n",
       "    </tr>\n",
       "    <tr>\n",
       "      <th>9</th>\n",
       "      <td>5</td>\n",
       "      <td>1</td>\n",
       "      <td>Steak Burrito</td>\n",
       "      <td>[Fresh Tomato Salsa, [Rice, Black Beans, Pinto...</td>\n",
       "      <td>$9.25</td>\n",
       "    </tr>\n",
       "    <tr>\n",
       "      <th>10</th>\n",
       "      <td>5</td>\n",
       "      <td>1</td>\n",
       "      <td>Chips and Guacamole</td>\n",
       "      <td>NaN</td>\n",
       "      <td>$4.45</td>\n",
       "    </tr>\n",
       "    <tr>\n",
       "      <th>11</th>\n",
       "      <td>6</td>\n",
       "      <td>1</td>\n",
       "      <td>Chicken Crispy Tacos</td>\n",
       "      <td>[Roasted Chili Corn Salsa, [Fajita Vegetables,...</td>\n",
       "      <td>$8.75</td>\n",
       "    </tr>\n",
       "    <tr>\n",
       "      <th>12</th>\n",
       "      <td>6</td>\n",
       "      <td>1</td>\n",
       "      <td>Chicken Soft Tacos</td>\n",
       "      <td>[Roasted Chili Corn Salsa, [Rice, Black Beans,...</td>\n",
       "      <td>$8.75</td>\n",
       "    </tr>\n",
       "    <tr>\n",
       "      <th>13</th>\n",
       "      <td>7</td>\n",
       "      <td>1</td>\n",
       "      <td>Chicken Bowl</td>\n",
       "      <td>[Fresh Tomato Salsa, [Fajita Vegetables, Rice,...</td>\n",
       "      <td>$11.25</td>\n",
       "    </tr>\n",
       "    <tr>\n",
       "      <th>14</th>\n",
       "      <td>7</td>\n",
       "      <td>1</td>\n",
       "      <td>Chips and Guacamole</td>\n",
       "      <td>NaN</td>\n",
       "      <td>$4.45</td>\n",
       "    </tr>\n",
       "    <tr>\n",
       "      <th>15</th>\n",
       "      <td>8</td>\n",
       "      <td>1</td>\n",
       "      <td>Chips and Tomatillo-Green Chili Salsa</td>\n",
       "      <td>NaN</td>\n",
       "      <td>$2.39</td>\n",
       "    </tr>\n",
       "    <tr>\n",
       "      <th>16</th>\n",
       "      <td>8</td>\n",
       "      <td>1</td>\n",
       "      <td>Chicken Burrito</td>\n",
       "      <td>[Tomatillo-Green Chili Salsa (Medium), [Pinto ...</td>\n",
       "      <td>$8.49</td>\n",
       "    </tr>\n",
       "    <tr>\n",
       "      <th>17</th>\n",
       "      <td>9</td>\n",
       "      <td>1</td>\n",
       "      <td>Chicken Burrito</td>\n",
       "      <td>[Fresh Tomato Salsa (Mild), [Black Beans, Rice...</td>\n",
       "      <td>$8.49</td>\n",
       "    </tr>\n",
       "    <tr>\n",
       "      <th>18</th>\n",
       "      <td>9</td>\n",
       "      <td>2</td>\n",
       "      <td>Canned Soda</td>\n",
       "      <td>[Sprite]</td>\n",
       "      <td>$2.18</td>\n",
       "    </tr>\n",
       "    <tr>\n",
       "      <th>19</th>\n",
       "      <td>10</td>\n",
       "      <td>1</td>\n",
       "      <td>Chicken Bowl</td>\n",
       "      <td>[Tomatillo Red Chili Salsa, [Fajita Vegetables...</td>\n",
       "      <td>$8.75</td>\n",
       "    </tr>\n",
       "    <tr>\n",
       "      <th>20</th>\n",
       "      <td>10</td>\n",
       "      <td>1</td>\n",
       "      <td>Chips and Guacamole</td>\n",
       "      <td>NaN</td>\n",
       "      <td>$4.45</td>\n",
       "    </tr>\n",
       "    <tr>\n",
       "      <th>21</th>\n",
       "      <td>11</td>\n",
       "      <td>1</td>\n",
       "      <td>Barbacoa Burrito</td>\n",
       "      <td>[[Fresh Tomato Salsa (Mild), Tomatillo-Green C...</td>\n",
       "      <td>$8.99</td>\n",
       "    </tr>\n",
       "    <tr>\n",
       "      <th>22</th>\n",
       "      <td>11</td>\n",
       "      <td>1</td>\n",
       "      <td>Nantucket Nectar</td>\n",
       "      <td>[Pomegranate Cherry]</td>\n",
       "      <td>$3.39</td>\n",
       "    </tr>\n",
       "    <tr>\n",
       "      <th>23</th>\n",
       "      <td>12</td>\n",
       "      <td>1</td>\n",
       "      <td>Chicken Burrito</td>\n",
       "      <td>[[Tomatillo-Green Chili Salsa (Medium), Tomati...</td>\n",
       "      <td>$10.98</td>\n",
       "    </tr>\n",
       "    <tr>\n",
       "      <th>24</th>\n",
       "      <td>12</td>\n",
       "      <td>1</td>\n",
       "      <td>Izze</td>\n",
       "      <td>[Grapefruit]</td>\n",
       "      <td>$3.39</td>\n",
       "    </tr>\n",
       "    <tr>\n",
       "      <th>25</th>\n",
       "      <td>13</td>\n",
       "      <td>1</td>\n",
       "      <td>Chips and Fresh Tomato Salsa</td>\n",
       "      <td>NaN</td>\n",
       "      <td>$2.39</td>\n",
       "    </tr>\n",
       "    <tr>\n",
       "      <th>26</th>\n",
       "      <td>13</td>\n",
       "      <td>1</td>\n",
       "      <td>Chicken Bowl</td>\n",
       "      <td>[Roasted Chili Corn Salsa (Medium), [Pinto Bea...</td>\n",
       "      <td>$8.49</td>\n",
       "    </tr>\n",
       "    <tr>\n",
       "      <th>27</th>\n",
       "      <td>14</td>\n",
       "      <td>1</td>\n",
       "      <td>Carnitas Burrito</td>\n",
       "      <td>[[Tomatillo-Green Chili Salsa (Medium), Roaste...</td>\n",
       "      <td>$8.99</td>\n",
       "    </tr>\n",
       "    <tr>\n",
       "      <th>28</th>\n",
       "      <td>14</td>\n",
       "      <td>1</td>\n",
       "      <td>Canned Soda</td>\n",
       "      <td>[Dr. Pepper]</td>\n",
       "      <td>$1.09</td>\n",
       "    </tr>\n",
       "    <tr>\n",
       "      <th>29</th>\n",
       "      <td>15</td>\n",
       "      <td>1</td>\n",
       "      <td>Chicken Burrito</td>\n",
       "      <td>[Tomatillo-Green Chili Salsa (Medium), [Pinto ...</td>\n",
       "      <td>$8.49</td>\n",
       "    </tr>\n",
       "  </tbody>\n",
       "</table>\n",
       "</div>"
      ],
      "text/plain": [
       "    order_id  quantity                              item_name  \\\n",
       "0          1         1           Chips and Fresh Tomato Salsa   \n",
       "1          1         1                                   Izze   \n",
       "2          1         1                       Nantucket Nectar   \n",
       "3          1         1  Chips and Tomatillo-Green Chili Salsa   \n",
       "4          2         2                           Chicken Bowl   \n",
       "5          3         1                           Chicken Bowl   \n",
       "6          3         1                          Side of Chips   \n",
       "7          4         1                          Steak Burrito   \n",
       "8          4         1                       Steak Soft Tacos   \n",
       "9          5         1                          Steak Burrito   \n",
       "10         5         1                    Chips and Guacamole   \n",
       "11         6         1                   Chicken Crispy Tacos   \n",
       "12         6         1                     Chicken Soft Tacos   \n",
       "13         7         1                           Chicken Bowl   \n",
       "14         7         1                    Chips and Guacamole   \n",
       "15         8         1  Chips and Tomatillo-Green Chili Salsa   \n",
       "16         8         1                        Chicken Burrito   \n",
       "17         9         1                        Chicken Burrito   \n",
       "18         9         2                            Canned Soda   \n",
       "19        10         1                           Chicken Bowl   \n",
       "20        10         1                    Chips and Guacamole   \n",
       "21        11         1                       Barbacoa Burrito   \n",
       "22        11         1                       Nantucket Nectar   \n",
       "23        12         1                        Chicken Burrito   \n",
       "24        12         1                                   Izze   \n",
       "25        13         1           Chips and Fresh Tomato Salsa   \n",
       "26        13         1                           Chicken Bowl   \n",
       "27        14         1                       Carnitas Burrito   \n",
       "28        14         1                            Canned Soda   \n",
       "29        15         1                        Chicken Burrito   \n",
       "\n",
       "                                   choice_description item_price  \n",
       "0                                                 NaN     $2.39   \n",
       "1                                        [Clementine]     $3.39   \n",
       "2                                             [Apple]     $3.39   \n",
       "3                                                 NaN     $2.39   \n",
       "4   [Tomatillo-Red Chili Salsa (Hot), [Black Beans...    $16.98   \n",
       "5   [Fresh Tomato Salsa (Mild), [Rice, Cheese, Sou...    $10.98   \n",
       "6                                                 NaN     $1.69   \n",
       "7   [Tomatillo Red Chili Salsa, [Fajita Vegetables...    $11.75   \n",
       "8   [Tomatillo Green Chili Salsa, [Pinto Beans, Ch...     $9.25   \n",
       "9   [Fresh Tomato Salsa, [Rice, Black Beans, Pinto...     $9.25   \n",
       "10                                                NaN     $4.45   \n",
       "11  [Roasted Chili Corn Salsa, [Fajita Vegetables,...     $8.75   \n",
       "12  [Roasted Chili Corn Salsa, [Rice, Black Beans,...     $8.75   \n",
       "13  [Fresh Tomato Salsa, [Fajita Vegetables, Rice,...    $11.25   \n",
       "14                                                NaN     $4.45   \n",
       "15                                                NaN     $2.39   \n",
       "16  [Tomatillo-Green Chili Salsa (Medium), [Pinto ...     $8.49   \n",
       "17  [Fresh Tomato Salsa (Mild), [Black Beans, Rice...     $8.49   \n",
       "18                                           [Sprite]     $2.18   \n",
       "19  [Tomatillo Red Chili Salsa, [Fajita Vegetables...     $8.75   \n",
       "20                                                NaN     $4.45   \n",
       "21  [[Fresh Tomato Salsa (Mild), Tomatillo-Green C...     $8.99   \n",
       "22                               [Pomegranate Cherry]     $3.39   \n",
       "23  [[Tomatillo-Green Chili Salsa (Medium), Tomati...    $10.98   \n",
       "24                                       [Grapefruit]     $3.39   \n",
       "25                                                NaN     $2.39   \n",
       "26  [Roasted Chili Corn Salsa (Medium), [Pinto Bea...     $8.49   \n",
       "27  [[Tomatillo-Green Chili Salsa (Medium), Roaste...     $8.99   \n",
       "28                                       [Dr. Pepper]     $1.09   \n",
       "29  [Tomatillo-Green Chili Salsa (Medium), [Pinto ...     $8.49   "
      ]
     },
     "execution_count": 51,
     "metadata": {},
     "output_type": "execute_result"
    }
   ],
   "source": [
    "df.head(30)"
   ]
  },
  {
   "cell_type": "code",
   "execution_count": 52,
   "metadata": {},
   "outputs": [
    {
     "data": {
      "text/plain": [
       "(4622, 5)"
      ]
     },
     "execution_count": 52,
     "metadata": {},
     "output_type": "execute_result"
    }
   ],
   "source": [
    "df.shape"
   ]
  },
  {
   "cell_type": "code",
   "execution_count": 53,
   "metadata": {},
   "outputs": [
    {
     "name": "stdout",
     "output_type": "stream",
     "text": [
      "<class 'pandas.core.frame.DataFrame'>\n",
      "RangeIndex: 4622 entries, 0 to 4621\n",
      "Data columns (total 5 columns):\n",
      " #   Column              Non-Null Count  Dtype \n",
      "---  ------              --------------  ----- \n",
      " 0   order_id            4622 non-null   int64 \n",
      " 1   quantity            4622 non-null   int64 \n",
      " 2   item_name           4622 non-null   object\n",
      " 3   choice_description  3376 non-null   object\n",
      " 4   item_price          4622 non-null   object\n",
      "dtypes: int64(2), object(3)\n",
      "memory usage: 180.7+ KB\n"
     ]
    }
   ],
   "source": [
    "#review indicates that there are null values in the choice_description column only\n",
    "#item price is an object instead of integer\n",
    "\n",
    "df.info()"
   ]
  },
  {
   "cell_type": "markdown",
   "metadata": {},
   "source": [
    "---\n",
    "\n",
    "## Intermediate Level"
   ]
  },
  {
   "cell_type": "markdown",
   "metadata": {},
   "source": [
    "### Part 3: Calculate the average price of an order.\n",
    "\n",
    "Hint: Examine the data to see if the `quantity` column is relevant to this calculation.\n",
    "\n",
    "Hint: Think carefully about the simplest way to do this!"
   ]
  },
  {
   "cell_type": "code",
   "execution_count": 54,
   "metadata": {},
   "outputs": [],
   "source": [
    "df['item_price'] = df.item_price.str.slice(1).astype(float)"
   ]
  },
  {
   "cell_type": "code",
   "execution_count": 55,
   "metadata": {},
   "outputs": [
    {
     "data": {
      "text/html": [
       "<div>\n",
       "<style scoped>\n",
       "    .dataframe tbody tr th:only-of-type {\n",
       "        vertical-align: middle;\n",
       "    }\n",
       "\n",
       "    .dataframe tbody tr th {\n",
       "        vertical-align: top;\n",
       "    }\n",
       "\n",
       "    .dataframe thead th {\n",
       "        text-align: right;\n",
       "    }\n",
       "</style>\n",
       "<table border=\"1\" class=\"dataframe\">\n",
       "  <thead>\n",
       "    <tr style=\"text-align: right;\">\n",
       "      <th></th>\n",
       "      <th>order_id</th>\n",
       "      <th>quantity</th>\n",
       "      <th>item_name</th>\n",
       "      <th>choice_description</th>\n",
       "      <th>item_price</th>\n",
       "    </tr>\n",
       "  </thead>\n",
       "  <tbody>\n",
       "    <tr>\n",
       "      <th>0</th>\n",
       "      <td>1</td>\n",
       "      <td>1</td>\n",
       "      <td>Chips and Fresh Tomato Salsa</td>\n",
       "      <td>NaN</td>\n",
       "      <td>2.39</td>\n",
       "    </tr>\n",
       "    <tr>\n",
       "      <th>1</th>\n",
       "      <td>1</td>\n",
       "      <td>1</td>\n",
       "      <td>Izze</td>\n",
       "      <td>[Clementine]</td>\n",
       "      <td>3.39</td>\n",
       "    </tr>\n",
       "    <tr>\n",
       "      <th>2</th>\n",
       "      <td>1</td>\n",
       "      <td>1</td>\n",
       "      <td>Nantucket Nectar</td>\n",
       "      <td>[Apple]</td>\n",
       "      <td>3.39</td>\n",
       "    </tr>\n",
       "    <tr>\n",
       "      <th>3</th>\n",
       "      <td>1</td>\n",
       "      <td>1</td>\n",
       "      <td>Chips and Tomatillo-Green Chili Salsa</td>\n",
       "      <td>NaN</td>\n",
       "      <td>2.39</td>\n",
       "    </tr>\n",
       "    <tr>\n",
       "      <th>4</th>\n",
       "      <td>2</td>\n",
       "      <td>2</td>\n",
       "      <td>Chicken Bowl</td>\n",
       "      <td>[Tomatillo-Red Chili Salsa (Hot), [Black Beans...</td>\n",
       "      <td>16.98</td>\n",
       "    </tr>\n",
       "  </tbody>\n",
       "</table>\n",
       "</div>"
      ],
      "text/plain": [
       "   order_id  quantity                              item_name  \\\n",
       "0         1         1           Chips and Fresh Tomato Salsa   \n",
       "1         1         1                                   Izze   \n",
       "2         1         1                       Nantucket Nectar   \n",
       "3         1         1  Chips and Tomatillo-Green Chili Salsa   \n",
       "4         2         2                           Chicken Bowl   \n",
       "\n",
       "                                  choice_description  item_price  \n",
       "0                                                NaN        2.39  \n",
       "1                                       [Clementine]        3.39  \n",
       "2                                            [Apple]        3.39  \n",
       "3                                                NaN        2.39  \n",
       "4  [Tomatillo-Red Chili Salsa (Hot), [Black Beans...       16.98  "
      ]
     },
     "execution_count": 55,
     "metadata": {},
     "output_type": "execute_result"
    }
   ],
   "source": [
    "df.head()"
   ]
  },
  {
   "cell_type": "code",
   "execution_count": 56,
   "metadata": {},
   "outputs": [
    {
     "name": "stdout",
     "output_type": "stream",
     "text": [
      "<class 'pandas.core.frame.DataFrame'>\n",
      "RangeIndex: 4622 entries, 0 to 4621\n",
      "Data columns (total 5 columns):\n",
      " #   Column              Non-Null Count  Dtype  \n",
      "---  ------              --------------  -----  \n",
      " 0   order_id            4622 non-null   int64  \n",
      " 1   quantity            4622 non-null   int64  \n",
      " 2   item_name           4622 non-null   object \n",
      " 3   choice_description  3376 non-null   object \n",
      " 4   item_price          4622 non-null   float64\n",
      "dtypes: float64(1), int64(2), object(2)\n",
      "memory usage: 180.7+ KB\n"
     ]
    }
   ],
   "source": [
    "#verified item_price was converted to a float\n",
    "df.info()"
   ]
  },
  {
   "cell_type": "code",
   "execution_count": 40,
   "metadata": {},
   "outputs": [
    {
     "name": "stdout",
     "output_type": "stream",
     "text": [
      "34500.16\n"
     ]
    }
   ],
   "source": [
    "order_sum = df['item_price'].sum()\n",
    "print(order_sum)\n"
   ]
  },
  {
   "cell_type": "code",
   "execution_count": 41,
   "metadata": {},
   "outputs": [
    {
     "name": "stdout",
     "output_type": "stream",
     "text": [
      "4972\n"
     ]
    }
   ],
   "source": [
    "total_orders = df['quantity'].sum()\n",
    "print(total_orders)"
   ]
  },
  {
   "cell_type": "code",
   "execution_count": 38,
   "metadata": {},
   "outputs": [
    {
     "name": "stdout",
     "output_type": "stream",
     "text": [
      "6.94\n"
     ]
    }
   ],
   "source": [
    "#Answer\n",
    "avg_price = round(order_sum/total_orders,2)\n",
    "print(avg_price)"
   ]
  },
  {
   "cell_type": "markdown",
   "metadata": {},
   "source": [
    "### Part 4: Create a list (or set) named `unique_sodas` containing all of unique sodas and soft drinks that Chipotle sells.\n",
    "\n",
    "Note: Just look for `'Canned Soda'` and `'Canned Soft Drink'`, and ignore other drinks like `'Izze'`."
   ]
  },
  {
   "cell_type": "code",
   "execution_count": 22,
   "metadata": {},
   "outputs": [],
   "source": [
    "sodas = []\n",
    "for row in data:\n",
    "    if 'Canned' in row[2]:\n",
    "        sodas.append(row[3][1:-1])"
   ]
  },
  {
   "cell_type": "code",
   "execution_count": 23,
   "metadata": {},
   "outputs": [],
   "source": [
    "unique_sodas = set(sodas)"
   ]
  },
  {
   "cell_type": "code",
   "execution_count": 24,
   "metadata": {},
   "outputs": [
    {
     "name": "stdout",
     "output_type": "stream",
     "text": [
      "{'Nestea', 'Coca Cola', 'Diet Dr. Pepper', 'Diet Coke', 'Dr. Pepper', 'Mountain Dew', 'Sprite', 'Coke', 'Lemonade'}\n"
     ]
    }
   ],
   "source": [
    "print(unique_sodas)"
   ]
  },
  {
   "cell_type": "code",
   "execution_count": null,
   "metadata": {},
   "outputs": [],
   "source": []
  },
  {
   "cell_type": "markdown",
   "metadata": {},
   "source": [
    "---\n",
    "\n",
    "## Advanced Level\n"
   ]
  },
  {
   "cell_type": "markdown",
   "metadata": {},
   "source": [
    "### Part 5: Calculate the average number of toppings per burrito.\n",
    "\n",
    "Note: Let's ignore the `quantity` column to simplify this task.\n",
    "\n",
    "Hint: Think carefully about the easiest way to count the number of toppings!\n"
   ]
  },
  {
   "cell_type": "code",
   "execution_count": 13,
   "metadata": {},
   "outputs": [
    {
     "name": "stdout",
     "output_type": "stream",
     "text": [
      "1172\n"
     ]
    }
   ],
   "source": [
    "number_burritos = 0\n",
    "burritos = []\n",
    "for row in data:\n",
    "    if 'Burrito' in row[2]:\n",
    "        burritos.append(row[3][1:-1])\n",
    "        number_burritos = number_burritos + 1\n",
    "print (number_burritos)        "
   ]
  },
  {
   "cell_type": "code",
   "execution_count": 14,
   "metadata": {},
   "outputs": [
    {
     "name": "stdout",
     "output_type": "stream",
     "text": [
      "{'Tomatillo Green Chili Salsa, [Rice, Black Beans, Cheese, Guacamole]', 'Tomatillo Red Chili Salsa, [Fajita Vegetables, Rice, Black Beans, Guacamole]', 'Tomatillo Red Chili Salsa, [Rice, Fajita Vegetables, Black Beans, Sour Cream, Cheese, Lettuce, Guacamole]', 'Tomatillo Red Chili (Hot), [Lettuce, Black Beans, Rice, Sour Cream, Cheese]', 'Fresh Tomato Salsa, [Rice, Black Beans, Sour Cream, Guacamole]', 'Roasted Chili Corn Salsa, [Rice, Black Beans]', 'Fresh Tomato Salsa, [Fajita Vegetables, Rice, Black Beans, Cheese, Lettuce]', 'Fresh Tomato Salsa, [Guacamole, Cheese, Rice, Sour Cream, Fajita Vegetables, Lettuce]', 'Roasted Chili Corn Salsa, [Fajita Vegetables, Rice, Sour Cream, Guacamole]', 'Fresh Tomato (Mild), [Guacamole, Lettuce, Rice, Fajita Veggies, Sour Cream, Cheese]', 'Fresh Tomato Salsa (Mild), [Cheese, Lettuce]', 'Tomatillo Green Chili Salsa, [Rice, Black Beans, Sour Cream, Cheese]', 'Tomatillo Green Chili Salsa, [Fajita Vegetables, Rice, Black Beans, Pinto Beans, Cheese]', 'Roasted Chili Corn Salsa, [Rice, Black Beans, Cheese, Guacamole, Lettuce]', 'Roasted Chili Corn Salsa, [Rice, Pinto Beans, Sour Cream, Cheese, Guacamole]', 'Roasted Chili Corn Salsa, [Black Beans, Cheese, Lettuce]', 'Roasted Chili Corn Salsa, [Rice, Black Beans, Cheese, Lettuce, Guacamole]', 'Fresh Tomato Salsa (Mild), [Pinto Beans, Rice, Sour Cream]', 'Tomatillo-Green Chili Salsa (Medium), [Rice, Fajita Veggies, Cheese, Sour Cream]', 'Roasted Chili Corn Salsa, [Rice, Sour Cream, Cheese, Guacamole]', 'Roasted Chili Corn Salsa, [Fajita Vegetables, Rice, Black Beans, Sour Cream, Guacamole, Lettuce]', 'Tomatillo-Red Chili Salsa (Hot), [Pinto Beans, Rice, Cheese, Sour Cream, Lettuce]', '[Roasted Chili Corn Salsa (Medium), Tomatillo-Red Chili Salsa (Hot), Fresh Tomato Salsa (Mild)], [Rice, Black Beans, Pinto Beans, Cheese, Sour Cream, Lettuce]', 'Fresh Tomato Salsa, [Cheese, Black Beans, Rice]', 'Tomatillo Green Chili Salsa, [Rice, Pinto Beans, Black Beans, Sour Cream, Cheese, Lettuce]', 'Tomatillo-Green Chili Salsa (Medium), [Black Beans, Rice, Cheese, Sour Cream, Guacamole]', 'Fresh Tomato Salsa, [Sour Cream, Lettuce, Cheese, Rice]', 'Tomatillo-Green Chili Salsa (Medium), [Black Beans, Rice, Cheese, Sour Cream, Guacamole, Lettuce]', 'Tomatillo Green Chili Salsa, [Rice, Fajita Vegetables, Pinto Beans, Sour Cream, Cheese, Lettuce, Guacamole]', 'Fresh Tomato Salsa, [Fajita Vegetables, Rice, Black Beans, Sour Cream, Guacamole, Lettuce]', 'Roasted Chili Corn Salsa (Medium), [Rice, Black Beans, Sour Cream, Lettuce]', 'Tomatillo Red Chili Salsa, [Rice, Black Beans, Cheese, Sour Cream]', 'Roasted Chili Corn Salsa (Medium), [Fajita Veggies, Cheese, Lettuce, Sour Cream, Rice]', 'Tomatillo Green Chili Salsa, [Rice, Black Beans, Sour Cream, Cheese, Guacamole]', 'Tomatillo Red Chili Salsa, [Fajita Vegetables, Rice, Cheese]', 'Tomatillo-Green Chili Salsa (Medium), [Pinto Beans, Rice, Cheese, Sour Cream]', 'Tomatillo Green Chili Salsa, Cheese', 'Fresh Tomato Salsa, [Rice, Fajita Vegetables, Pinto Beans, Cheese, Guacamole]', 'Tomatillo-Red Chili Salsa (Hot), [Pinto Beans, Rice, Cheese, Sour Cream, Guacamole]', 'Roasted Chili Corn Salsa', 'Roasted Chili Corn Salsa, [Rice, Pinto Beans, Cheese, Sour Cream, Guacamole, Lettuce]', 'Tomatillo Green Chili Salsa, [Rice, Cheese, Guacamole, Lettuce]', 'Roasted Chili Corn Salsa (Medium), [Pinto Beans, Black Beans, Rice, Fajita Veggies, Lettuce]', 'Fresh Tomato Salsa, [Rice, Cheese]', 'Tomatillo-Red Chili Salsa (Hot), [Black Beans, Rice, Cheese]', 'Tomatillo Green Chili Salsa, [Black Beans, Cheese, Guacamole, Lettuce]', 'Fresh Tomato Salsa, [Fajita Vegetables, Cheese, Sour Cream, Guacamole, Lettuce]', 'Fresh Tomato Salsa, [Rice, Black Beans, Guacamole, Lettuce]', 'Fresh Tomato Salsa (Mild), [Cheese, Sour Cream, Guacamole, Lettuce]', 'Fresh Tomato Salsa, [Rice, Black Beans, Sour Cream, Cheese, Guacamole]', 'Roasted Chili Corn Salsa, [Fajita Vegetables, Rice, Cheese, Sour Cream, Guacamole, Lettuce]', 'Tomatillo Red Chili Salsa, [Rice, Pinto Beans, Cheese, Sour Cream]', 'Tomatillo Red Chili Salsa, [Fajita Vegetables, Black Beans, Cheese, Sour Cream, Guacamole]', 'Tomatillo Green Chili Salsa, [Rice, Cheese, Guacamole]', 'Roasted Chili Corn Salsa, [Rice, Black Beans, Sour Cream, Cheese]', 'Fresh Tomato Salsa (Mild), [Black Beans, Rice, Cheese, Sour Cream, Guacamole]', '[Fresh Tomato Salsa (Mild), Tomatillo-Red Chili Salsa (Hot)], [Black Beans, Rice, Fajita Veggies, Cheese, Lettuce]', 'Fresh Tomato Salsa, [Fajita Vegetables, Rice, Cheese, Guacamole]', 'Tomatillo Red Chili Salsa, [Rice, Sour Cream]', 'Roasted Chili Corn Salsa, [Rice, Black Beans, Sour Cream, Lettuce, Guacamole]', 'Tomatillo Red Chili Salsa, [Cheese, Black Beans, Rice]', 'Tomatillo Green Chili Salsa, [Rice, Black Beans, Pinto Beans, Cheese, Guacamole, Lettuce]', 'Fresh Tomato Salsa, [Rice, Guacamole, Cheese, Sour Cream]', 'Tomatillo Red Chili Salsa, [Fajita Vegetables, Rice, Pinto Beans, Cheese, Lettuce]', 'Roasted Chili Corn Salsa, [Rice, Fajita Vegetables, Cheese]', 'Fresh Tomato Salsa, [Rice, Cheese, Guacamole, Lettuce]', '[Lettuce, Rice]', 'Fresh Tomato Salsa, [Lettuce, Guacamole, Rice, Cheese, Fajita Vegetables, Sour Cream]', 'Tomatillo Green Chili Salsa, [Rice, Black Beans, Pinto Beans, Cheese, Sour Cream, Guacamole, Lettuce]', 'Fresh Tomato Salsa (Mild), [Cheese, Pinto Beans, Sour Cream, Rice]', 'Tomatillo-Green Chili Salsa (Medium), [Black Beans, Rice, Fajita Veggies, Cheese, Sour Cream]', 'Roasted Chili Corn Salsa, [Pinto Beans, Cheese, Sour Cream]', 'Tomatillo Red Chili Salsa, [Fajita Vegetables, Rice, Cheese, Sour Cream]', 'Roasted Chili Corn Salsa, [Cheese, Black Beans, Lettuce]', '[Tomatillo-Red Chili Salsa (Hot), Tomatillo-Green Chili Salsa (Medium)], [Rice, Black Beans, Cheese, Lettuce]', 'Roasted Chili Corn Salsa, [Rice, Cheese, Sour Cream, Lettuce]', 'Fresh Tomato Salsa, [Rice, Pinto Beans, Cheese, Lettuce]', '[Roasted Chili Corn Salsa (Medium), Tomatillo-Red Chili Salsa (Hot)], [Pinto Beans, Rice, Fajita Veggies, Cheese, Sour Cream, Lettuce]', 'Fresh Tomato Salsa (Mild), [Black Beans, Rice, Cheese, Sour Cream, Guacamole, Lettuce]', 'Tomatillo Green Chili Salsa, [Fajita Vegetables, Rice, Cheese, Sour Cream, Guacamole, Lettuce]', 'Fresh Tomato Salsa (Mild), [Rice, Black Beans, Fajita Veggies, Cheese, Guacamole, Lettuce]', 'Roasted Chili Corn Salsa, [Fajita Vegetables, Rice, Black Beans, Sour Cream, Guacamole]', 'Roasted Chili Corn Salsa, [Rice, Black Beans, Cheese, Sour Cream, Lettuce]', 'Tomatillo Green Chili Salsa, [Rice, Black Beans, Cheese, Sour Cream, Guacamole]', 'Rice', 'Roasted Chili Corn Salsa (Medium), [Rice, Cheese, Sour Cream]', 'Fresh Tomato Salsa, [Rice, Pinto Beans, Cheese]', 'Roasted Chili Corn Salsa, [Fajita Vegetables, Rice, Pinto Beans, Cheese, Sour Cream, Lettuce]', 'Roasted Chili Corn Salsa, [Fajita Vegetables, Rice, Sour Cream, Guacamole, Lettuce]', '[Tomatillo-Red Chili Salsa (Hot), Tomatillo-Green Chili Salsa (Medium)], [Rice, Pinto Beans, Cheese, Lettuce]', 'Fresh Tomato Salsa (Mild), [Pinto Beans, Rice, Guacamole]', 'Tomatillo Red Chili Salsa, [Rice, Cheese]', 'Roasted Chili Corn Salsa (Medium), [Rice, Fajita Veggies, Cheese]', 'White Rice, Adobo-Marinated and Grilled Steak, Pinto Beans, [Sour Cream, Salsa, Cheese, Cilantro-Lime Rice]', 'Tomatillo Red Chili Salsa, [Fajita Vegetables, Rice, Pinto Beans, Guacamole, Lettuce]', 'Tomatillo Red Chili Salsa, Sour Cream', 'Fresh Tomato (Mild), [Lettuce, Rice, Fajita Veggies, Sour Cream, Cheese]', 'Roasted Chili Corn Salsa (Medium), [Black Beans, Rice]', '[Roasted Chili Corn Salsa (Medium), Tomatillo-Green Chili Salsa (Medium)], [Rice, Black Beans, Sour Cream, Guacamole]', 'Fresh Tomato Salsa, [Rice, Black Beans, Lettuce, Cheese]', 'Fresh Tomato Salsa (Mild), [Rice, Black Beans, Cheese, Sour Cream, Guacamole, Lettuce]', 'Fresh Tomato Salsa (Mild), [Black Beans, Rice, Fajita Veggies, Sour Cream, Lettuce]', 'Tomatillo Green Chili (Medium), [Lettuce, Black Beans, Rice, Sour Cream, Cheese]', 'Roasted Chili Corn Salsa (Medium), Lettuce', 'Fresh Tomato Salsa, [Rice, Pinto Beans, Cheese, Sour Cream]', 'Fresh Tomato Salsa, [Rice, Black Beans, Sour Cream]', 'Fresh Tomato Salsa, [Rice, Pinto Beans, Lettuce]', '[Black Beans, Rice, Cheese]', 'Roasted Chili Corn Salsa (Medium), [Black Beans, Rice, Cheese, Sour Cream]', 'Fresh Tomato Salsa, [Rice, Fajita Vegetables]', 'Tomatillo-Red Chili Salsa (Hot), [Black Beans, Rice, Fajita Veggies, Cheese, Sour Cream, Lettuce]', 'Tomatillo Red Chili Salsa, [Rice, Pinto Beans, Cheese, Lettuce]', 'Roasted Chili Corn Salsa, [Sour Cream, Guacamole]', 'Tomatillo Red Chili Salsa, [Fajita Vegetables, Rice, Black Beans, Sour Cream, Guacamole, Lettuce]', 'Tomatillo-Red Chili Salsa (Hot), [Rice, Fajita Veggies, Cheese, Sour Cream, Lettuce]', 'Tomatillo Red Chili Salsa, Rice', '[Roasted Chili Corn Salsa (Medium), Tomatillo-Red Chili Salsa (Hot), Fresh Tomato Salsa (Mild)], [Rice, Pinto Beans, Fajita Veggies, Cheese, Sour Cream, Lettuce]', 'Fresh Tomato Salsa, [Rice, Sour Cream, Cheese, Lettuce, Guacamole]', 'Tomatillo-Red Chili Salsa (Hot), [Guacamole, Lettuce, Sour Cream, Rice, Cheese, Black Beans]', 'Tomatillo-Green Chili Salsa (Medium), [Black Beans, Rice, Fajita Veggies, Sour Cream]', 'Fresh Tomato Salsa, [Rice, Fajita Vegetables, Black Beans, Sour Cream, Cheese]', 'Roasted Chili Corn Salsa, [Rice, Pinto Beans, Sour Cream, Cheese]', '[Fresh Tomato Salsa (Mild), Roasted Chili Corn Salsa (Medium), Tomatillo-Red Chili Salsa (Hot)], [Black Beans, Rice, Fajita Veggies, Lettuce]', '[Fresh Tomato Salsa (Mild), Roasted Chili Corn Salsa (Medium)], [Black Beans, Rice, Cheese, Lettuce]', 'Fresh Tomato (Mild), [Lettuce, Pinto Beans, Rice, Sour Cream, Cheese]', '[Roasted Chili Corn Salsa (Medium), Tomatillo-Red Chili Salsa (Hot)], [Black Beans, Rice, Fajita Veggies, Cheese, Sour Cream, Guacamole, Lettuce]', 'Tomatillo-Green Chili Salsa (Medium), [Rice, Cheese, Sour Cream, Lettuce]', 'Fresh Tomato Salsa, [Rice, Fajita Vegetables, Black Beans, Lettuce, Guacamole]', 'Fresh Tomato Salsa, [Fajita Vegetables, Rice, Black Beans, Cheese, Sour Cream, Guacamole, Lettuce]', 'Roasted Chili Corn Salsa, [Rice, Cheese, Sour Cream, Guacamole, Lettuce]', 'Fresh Tomato Salsa, [Fajita Vegetables, Cheese, Lettuce]', 'Tomatillo Red Chili Salsa, [Rice, Lettuce]', 'Fresh Tomato Salsa, [Black Beans, Cheese, Sour Cream]', '[Fresh Tomato Salsa (Mild), Roasted Chili Corn Salsa (Medium)], [Pinto Beans, Rice, Fajita Veggies, Cheese, Sour Cream]', 'Fresh Tomato Salsa (Mild), [Rice, Cheese, Lettuce]', 'Roasted Chili Corn Salsa (Medium), [Black Beans, Rice, Fajita Veggies, Cheese, Sour Cream]', 'Tomatillo Red Chili Salsa, [Cheese, Rice, Black Beans]', 'Roasted Chili Corn Salsa, [Fajita Vegetables, Rice, Cheese, Lettuce]', '[Roasted Chili Corn Salsa (Medium), Fresh Tomato Salsa (Mild)], [Rice, Black Beans, Pinto Beans, Fajita Veggies, Guacamole, Lettuce]', 'Roasted Chili Corn Salsa, [Rice, Black Beans, Sour Cream, Lettuce]', 'Fresh Tomato Salsa (Mild), [Pinto Beans, Rice, Sour Cream, Cheese]', '[Tomatillo-Green Chili Salsa (Medium), Tomatillo-Red Chili Salsa (Hot)], [Black Beans, Rice, Fajita Veggies, Sour Cream]', 'Tomatillo Green Chili Salsa, [Rice, Black Beans, Cheese, Sour Cream]', 'Fresh Tomato Salsa, [Fajita Vegetables, Sour Cream, Cheese, Guacamole]', 'Roasted Chili Corn Salsa, [Fajita Vegetables, Rice]', 'Roasted Chili Corn (Medium), [Lettuce, Black Beans, Rice, Sour Cream, Cheese]', 'Tomatillo-Green Chili Salsa (Medium), [Rice, Fajita Veggies, Cheese, Lettuce]', 'Tomatillo-Red Chili Salsa (Hot), [Black Beans, Rice, Fajita Veggies, Cheese, Lettuce]', 'Tomatillo Green Chili Salsa, [Rice, Sour Cream, Cheese, Lettuce]', 'Fresh Tomato Salsa, [Fajita Vegetables, Rice, Black Beans, Pinto Beans, Cheese, Sour Cream, Guacamole, Lettuce]', 'Tomatillo Green Chili Salsa, [Rice, Black Beans, Cheese]', 'Tomatillo Red Chili Salsa, [Sour Cream, Cheese, Rice]', 'Fresh Tomato Salsa, Cheese', 'Tomatillo Red Chili Salsa, [Guacamole, Cheese]', '[Rice, Cheese]', 'Tomatillo-Red Chili Salsa (Hot), [Pinto Beans, Cheese, Sour Cream, Lettuce]', '[Fresh Tomato Salsa (Mild), Tomatillo-Red Chili Salsa (Hot)], [Pinto Beans, Rice, Cheese, Sour Cream, Lettuce]', 'Fresh Tomato Salsa, [Rice, Fajita Vegetables, Cheese, Lettuce]', 'Tomatillo-Green Chili Salsa (Medium), [Rice, Fajita Veggies, Cheese, Sour Cream, Lettuce]', 'Tomatillo Green Chili Salsa, [Rice, Pinto Beans, Sour Cream, Cheese, Lettuce]', '[Roasted Chili Corn Salsa (Medium), Fresh Tomato Salsa (Mild)], [Rice, Black Beans, Fajita Veggies, Cheese, Sour Cream, Guacamole, Lettuce]', 'Roasted Chili Corn Salsa (Medium), [Rice, Sour Cream, Lettuce]', 'Fresh Tomato Salsa, [Rice, Black Beans, Sour Cream, Cheese]', 'Tomatillo Red Chili (Hot), [Lettuce, Rice, Sour Cream, Cheese]', '[Tomatillo-Green Chili Salsa (Medium), Roasted Chili Corn Salsa (Medium)], [Black Beans, Rice, Sour Cream, Lettuce]', '[Fresh Tomato Salsa (Mild), Roasted Chili Corn Salsa (Medium)], [Rice, Fajita Veggies, Cheese, Lettuce]', 'Fresh Tomato Salsa, [Fajita Vegetables, Rice, Black Beans, Cheese, Guacamole]', 'Fresh Tomato Salsa, [Fajita Vegetables, Rice, Cheese, Lettuce]', 'Fresh Tomato Salsa, [Guacamole, Lettuce, Sour Cream, Rice]', 'Roasted Chili Corn Salsa, [Rice, Pinto Beans, Sour Cream, Cheese, Lettuce]', 'Fresh Tomato Salsa (Mild), [Black Beans, Rice, Cheese, Sour Cream]', 'Tomatillo-Red Chili Salsa (Hot), [Rice, Cheese, Lettuce]', 'Fresh Tomato Salsa, [Rice, Sour Cream, Guacamole]', 'Tomatillo Red Chili Salsa, Lettuce', 'Fresh Tomato Salsa, [Guacamole, Lettuce, Sour Cream, Fajita Vegetables, Cheese, Rice]', 'Fresh Tomato Salsa (Mild), [Black Beans, Rice, Guacamole, Lettuce]', 'Roasted Chili Corn Salsa, [Fajita Vegetables, Rice, Black Beans, Cheese, Sour Cream, Guacamole, Lettuce]', 'Tomatillo Green Chili Salsa, [Fajita Vegetables, Rice, Black Beans, Cheese, Sour Cream, Lettuce]', '[Tomatillo-Green Chili Salsa (Medium), Roasted Chili Corn Salsa (Medium), Tomatillo-Red Chili Salsa (Hot)], [Black Beans, Rice, Fajita Veggies, Guacamole, Lettuce]', '[Fresh Tomato Salsa (Mild), Roasted Chili Corn Salsa (Medium)], [Black Beans, Rice, Cheese, Sour Cream, Guacamole]', 'Roasted Chili Corn Salsa (Medium), [Rice, Pinto Beans, Cheese, Lettuce]', 'Tomatillo Green Chili Salsa, [Fajita Vegetables, Black Beans, Sour Cream, Cheese]', 'Fresh Tomato Salsa, [Rice, Black Beans, Pinto Beans, Cheese, Guacamole, Lettuce]', 'Roasted Chili Corn Salsa (Medium), [Pinto Beans, Black Beans, Rice, Fajita Veggies, Cheese, Sour Cream, Lettuce]', '[Roasted Chili Corn Salsa (Medium), Fresh Tomato Salsa (Mild)], [Rice, Black Beans, Cheese, Lettuce]', 'Roasted Chili Corn Salsa (Medium), [Black Beans, Rice, Fajita Veggies, Cheese, Sour Cream, Guacamole, Lettuce]', 'Tomatillo Red Chili Salsa, [Rice, Black Beans, Sour Cream, Cheese, Lettuce, Guacamole]', 'Tomatillo-Red Chili Salsa (Hot), [Rice, Cheese]', 'Fresh Tomato Salsa, [Cheese, Sour Cream, Guacamole, Lettuce]', 'Roasted Chili Corn Salsa, [Rice, Cheese]', '[Fresh Tomato Salsa (Mild), Tomatillo-Red Chili Salsa (Hot)], [Rice, Cheese, Sour Cream, Lettuce]', 'Fresh Tomato Salsa, [Rice, Pinto Beans, Sour Cream, Cheese]', 'Fresh Tomato Salsa (Mild), [Rice, Fajita Veggies, Cheese, Guacamole]', 'Fresh Tomato Salsa, [Sour Cream, Cheese, Rice, Black Beans]', 'Rice, Tomatillo-Red Chili Salsa (Hot)', 'Fresh Tomato Salsa, [Rice, Black Beans]', 'Roasted Chili Corn Salsa (Medium), Rice', 'Fresh Tomato Salsa (Mild), [Fajita Veggies, Cheese, Sour Cream, Lettuce]', 'Fresh Tomato Salsa, [Fajita Vegetables, Rice, Black Beans, Cheese]', 'Tomatillo Green Chili Salsa, [Rice, Cheese, Sour Cream, Lettuce]', 'Tomatillo Red Chili Salsa, [Rice, Cheese, Guacamole]', 'Tomatillo-Red Chili Salsa (Hot), [Rice, Black Beans, Fajita Veggies, Guacamole]', 'Roasted Chili Corn Salsa, [Rice, Pinto Beans, Cheese, Guacamole, Lettuce]', 'Tomatillo Green Chili Salsa, [Sour Cream, Cheese, Guacamole]', 'Roasted Chili Corn Salsa, [Rice, Black Beans, Cheese, Sour Cream]', 'Fresh Tomato Salsa, [Fajita Vegetables, Pinto Beans, Cheese, Guacamole]', 'Fresh Tomato Salsa, [Cheese, Rice, Black Beans, Lettuce]', 'Fresh Tomato Salsa, [Rice, Black Beans, Cheese]', 'Tomatillo-Red Chili Salsa (Hot), [Rice, Cheese, Sour Cream]', 'Roasted Chili Corn Salsa, [Rice, Fajita Vegetables, Sour Cream, Cheese, Lettuce, Guacamole]', 'Roasted Chili Corn Salsa, [Rice, Black Beans, Cheese]', 'Fresh Tomato (Mild), [Lettuce, Guacamole, Rice, Cheese]', 'Roasted Chili Corn Salsa (Medium), [Pinto Beans, Rice, Fajita Veggies, Sour Cream, Lettuce]', 'Fresh Tomato Salsa, [Fajita Vegetables, Rice, Black Beans, Pinto Beans, Cheese, Sour Cream, Guacamole]', 'Fresh Tomato Salsa (Mild), [Pinto Beans, Rice, Cheese, Sour Cream]', 'Tomatillo Green Chili Salsa, [Fajita Vegetables, Rice, Black Beans, Guacamole, Lettuce]', 'Roasted Chili Corn Salsa, [Rice, Fajita Vegetables, Black Beans, Cheese, Lettuce, Guacamole]', 'Fresh Tomato Salsa, [Lettuce, Sour Cream, Cheese, Fajita Vegetables, Pinto Beans, Rice]', 'Roasted Chili Corn Salsa (Medium), [Rice, Fajita Veggies, Cheese, Sour Cream]', 'Fresh Tomato (Mild), [Guacamole, Rice, Black Beans]', 'Fresh Tomato Salsa, [Rice, Fajita Vegetables, Black Beans, Sour Cream, Cheese, Lettuce]', 'Tomatillo Red Chili Salsa, [Rice, Cheese, Sour Cream, Lettuce]', 'Fresh Tomato Salsa, [Black Beans, Cheese, Sour Cream, Guacamole, Lettuce]', 'Fresh Tomato Salsa, [Fajita Vegetables, Rice, Black Beans, Cheese, Sour Cream, Guacamole]', 'Roasted Chili Corn Salsa (Medium), [Pinto Beans, Rice, Cheese, Sour Cream, Lettuce]', 'Tomatillo-Red Chili Salsa (Hot), [Lettuce, Guacamole, Sour Cream, Cheese, Rice, Black Beans]', 'Tomatillo Red Chili Salsa, [Cheese, Black Beans, Rice, Lettuce, Sour Cream]', '[Roasted Chili Corn Salsa (Medium), Tomatillo-Red Chili Salsa (Hot)], [Black Beans, Rice, Cheese, Sour Cream, Lettuce]', 'Fresh Tomato Salsa, [Rice, Black Beans, Cheese, Sour Cream, Guacamole, Lettuce]', 'Fresh Tomato Salsa (Mild), [Black Beans, Rice, Fajita Veggies, Cheese, Sour Cream]', 'Fresh Tomato Salsa, [Pinto Beans, Lettuce, Cheese, Rice]', 'Tomatillo Green Chili Salsa, [Fajita Vegetables, Rice, Black Beans, Pinto Beans, Cheese, Sour Cream, Guacamole, Lettuce]', '[Fresh Tomato Salsa (Mild), Roasted Chili Corn Salsa (Medium), Tomatillo-Red Chili Salsa (Hot)], [Pinto Beans, Rice, Fajita Veggies, Cheese, Sour Cream, Lettuce]', 'Tomatillo-Green Chili Salsa (Medium), [Rice, Cheese, Sour Cream, Guacamole]', 'Brown Rice', '[Fresh Tomato Salsa (Mild), Roasted Chili Corn Salsa (Medium)], [Pinto Beans, Black Beans, Rice, Fajita Veggies, Cheese, Lettuce]', 'Fresh Tomato Salsa, [Pinto Beans, Cheese, Sour Cream, Guacamole]', 'Roasted Chili Corn Salsa (Medium), [Rice, Black Beans, Sour Cream, Guacamole]', 'Tomatillo Red Chili Salsa, [Black Beans, Lettuce]', '[Fresh Tomato Salsa (Mild), Roasted Chili Corn Salsa (Medium)], [Rice, Guacamole, Lettuce]', 'Fresh Tomato Salsa, [Rice, Cheese, Lettuce]', 'Tomatillo Red Chili Salsa, [Rice, Cheese, Guacamole, Lettuce]', 'Tomatillo-Green Chili Salsa (Medium), Lettuce', 'Fresh Tomato Salsa, [Rice, Cheese, Sour Cream, Lettuce]', 'Fresh Tomato (Mild), [Guacamole, Rice, Fajita Veggies, Sour Cream, Cheese]', 'Roasted Chili Corn Salsa (Medium), [Black Beans, Rice, Fajita Veggies, Cheese, Sour Cream, Lettuce]', 'Fresh Tomato Salsa, [Cheese, Lettuce]', 'Fresh Tomato Salsa, [Sour Cream, Guacamole, Rice, Lettuce]', 'Roasted Chili Corn Salsa, [Fajita Vegetables, Sour Cream, Cheese, Lettuce, Guacamole]', 'Tomatillo Red Chili Salsa, [Rice, Cheese, Sour Cream, Guacamole, Lettuce]', 'Roasted Chili Corn Salsa, [Fajita Vegetables, Rice, Black Beans, Cheese, Sour Cream, Guacamole]', 'Tomatillo Green Chili Salsa, [Fajita Vegetables, Rice, Black Beans, Cheese, Sour Cream, Guacamole, Lettuce]', 'Tomatillo Red Chili Salsa, [Rice, Fajita Vegetables, Black Beans, Sour Cream, Cheese, Guacamole]', 'Fresh Tomato (Mild), [Guacamole, Lettuce, Rice, Fajita Veggies, Cheese]', 'Roasted Chili Corn Salsa, [Rice, Pinto Beans, Cheese, Lettuce]', 'Fresh Tomato Salsa, [Black Beans, Cheese, Guacamole, Lettuce]', 'Tomatillo Red Chili Salsa, [Rice, Black Beans, Sour Cream, Cheese, Lettuce]', 'Tomatillo Red Chili Salsa, [Fajita Vegetables, Black Beans, Pinto Beans, Cheese, Sour Cream, Guacamole, Lettuce]', 'Tomatillo Green Chili Salsa, [Rice, Fajita Vegetables, Sour Cream, Cheese, Lettuce]', 'Tomatillo Red Chili Salsa, [Rice, Black Beans]', 'Roasted Chili Corn Salsa (Medium), [Rice, Black Beans, Sour Cream]', 'Fresh Tomato Salsa (Mild), [Black Beans, Rice, Cheese, Sour Cream, Lettuce]', 'Fresh Tomato (Mild), [Lettuce, Guacamole, Pinto Beans, Rice, Sour Cream, Cheese]', 'Tomatillo Green Chili Salsa, [Fajita Vegetables, Rice, Cheese, Sour Cream, Lettuce]', 'Roasted Chili Corn Salsa, [Fajita Vegetables, Black Beans, Sour Cream, Guacamole, Lettuce]', 'Roasted Chili Corn Salsa, [Rice, Black Beans, Lettuce]', 'Tomatillo Green Chili Salsa, [Rice, Fajita Vegetables, Pinto Beans, Sour Cream, Cheese]', 'Roasted Chili Corn Salsa (Medium), [Rice, Fajita Veggies, Cheese, Lettuce]', 'Tomatillo-Red Chili Salsa (Hot), [Black Beans, Fajita Veggies, Cheese, Sour Cream, Lettuce]', '[Fresh Tomato Salsa (Mild), Roasted Chili Corn Salsa (Medium)], [Pinto Beans, Black Beans, Rice, Fajita Veggies, Cheese, Sour Cream, Lettuce]', 'Fresh Tomato Salsa, [Rice, Black Beans, Pinto Beans, Cheese, Sour Cream, Lettuce]', 'Roasted Chili Corn Salsa (Medium), [Rice, Cheese, Lettuce]', 'Fresh Tomato Salsa', 'Roasted Chili Corn Salsa, [Rice, Fajita Vegetables, Black Beans, Sour Cream, Cheese, Lettuce, Guacamole]', 'Roasted Chili Corn Salsa, [Guacamole, Sour Cream, Rice, Fajita Vegetables, Lettuce]', 'Fresh Tomato Salsa, [Rice, Sour Cream, Lettuce]', 'Tomatillo Red Chili Salsa, [Rice, Black Beans, Lettuce]', 'Fresh Tomato Salsa (Mild), [Rice, Black Beans, Sour Cream, Guacamole]', 'Tomatillo-Green Chili Salsa (Medium), [Pinto Beans, Cheese, Sour Cream]', 'Roasted Chili Corn Salsa, [Rice, Pinto Beans, Cheese]', 'Fresh Tomato Salsa, [Rice, Fajita Vegetables, Pinto Beans, Cheese, Lettuce, Guacamole]', '[Roasted Chili Corn Salsa (Medium), Fresh Tomato Salsa (Mild)], [Rice, Pinto Beans, Cheese, Sour Cream, Guacamole, Lettuce]', 'Roasted Chili Corn Salsa (Medium), [Sour Cream, Cheese, Black Beans, Rice]', 'Fresh Tomato Salsa, [Fajita Vegetables, Rice, Cheese, Sour Cream]', 'Fresh Tomato Salsa (Mild), [Pinto Beans, Rice, Fajita Veggies, Cheese, Sour Cream, Guacamole, Lettuce]', 'Tomatillo-Green Chili Salsa (Medium), [Pinto Beans, Rice, Cheese, Sour Cream, Guacamole, Lettuce]', 'Tomatillo-Green Chili Salsa (Medium), [Rice, Fajita Veggies, Lettuce]', 'Tomatillo Red Chili Salsa', 'Tomatillo Green Chili Salsa, [Fajita Vegetables, Sour Cream]', 'Fresh Tomato Salsa, [Fajita Vegetables, Rice, Cheese, Sour Cream, Lettuce]', '[Fresh Tomato Salsa (Mild), Tomatillo-Green Chili Salsa (Medium)], [Black Beans, Rice, Fajita Veggies, Cheese, Sour Cream]', 'Roasted Chili Corn Salsa, [Fajita Vegetables, Rice, Black Beans, Pinto Beans, Cheese, Lettuce]', 'Fresh Tomato Salsa, [Fajita Vegetables, Rice, Pinto Beans, Cheese, Sour Cream, Guacamole, Lettuce]', 'Fresh Tomato Salsa, [Rice, Sour Cream, Cheese]', '[Lettuce, Fajita Veggies, Rice]', 'Roasted Chili Corn Salsa, [Black Beans, Cheese, Sour Cream]', 'Fresh Tomato Salsa, [Cheese, Rice, Pinto Beans]', 'Tomatillo Red Chili Salsa, [Rice, Black Beans, Cheese, Lettuce]', 'Tomatillo Red Chili Salsa, [Rice, Fajita Vegetables, Pinto Beans, Sour Cream, Lettuce]', '[Fresh Tomato Salsa (Mild), Roasted Chili Corn Salsa (Medium)], [Black Beans, Rice, Sour Cream, Guacamole, Lettuce]', 'Fresh Tomato Salsa, [Fajita Vegetables, Rice, Pinto Beans, Cheese, Guacamole, Lettuce]', 'Adobo-Marinated and Grilled Chicken, Pinto Beans, [Sour Cream, Salsa, Cheese, Cilantro-Lime Rice, Guacamole]', 'Fresh Tomato Salsa (Mild), [Black Beans, Fajita Veggies, Cheese, Sour Cream, Lettuce]', 'Tomatillo Red Chili Salsa, [Black Beans, Cheese, Sour Cream, Guacamole]', 'Roasted Chili Corn Salsa, [Fajita Vegetables, Rice, Black Beans, Pinto Beans, Cheese, Sour Cream, Guacamole, Lettuce]', 'Tomatillo-Red Chili Salsa (Hot), [Rice, Guacamole]', 'Tomatillo Red Chili Salsa, [Rice, Cheese, Lettuce]', 'Fresh Tomato Salsa, [Rice, Pinto Beans, Guacamole, Lettuce]', '[Fresh Tomato Salsa (Mild), Tomatillo-Red Chili Salsa (Hot)], [Rice, Fajita Veggies, Cheese, Lettuce]', 'Fresh Tomato Salsa (Mild), [Black Beans, Rice, Fajita Veggies, Cheese, Sour Cream, Lettuce]', 'Roasted Chili Corn Salsa, [Rice, Pinto Beans, Cheese, Sour Cream, Guacamole]', '[Fresh Tomato Salsa (Mild), Roasted Chili Corn Salsa (Medium)], [Black Beans, Rice, Fajita Veggies, Sour Cream, Lettuce]', 'Fresh Tomato Salsa, [Rice, Pinto Beans, Cheese, Sour Cream, Guacamole, Lettuce]', '[Fresh Tomato Salsa (Mild), Tomatillo-Green Chili Salsa (Medium), Tomatillo-Red Chili Salsa (Hot)], [Rice, Cheese, Sour Cream, Lettuce]', 'Tomatillo-Green Chili Salsa (Medium), [Rice, Black Beans, Sour Cream, Guacamole]', 'Fresh Tomato Salsa (Mild), [Pinto Beans, Black Beans, Rice, Fajita Veggies, Cheese, Sour Cream, Lettuce]', 'Fresh Tomato Salsa, [Rice, Black Beans, Cheese, Lettuce, Guacamole]', '[Lettuce, Rice, Fajita Veggies]', 'Tomatillo Green Chili Salsa, [Rice, Pinto Beans, Cheese, Sour Cream, Guacamole, Lettuce]', '[Fresh Tomato Salsa (Mild), Roasted Chili Corn Salsa (Medium)], [Pinto Beans, Rice, Fajita Veggies, Cheese, Sour Cream, Lettuce]', 'Roasted Chili Corn Salsa, [Rice, Black Beans, Cheese, Sour Cream, Guacamole, Lettuce]', 'Fresh Tomato Salsa, [Rice, Fajita Vegetables, Sour Cream, Cheese, Guacamole]', 'Fresh Tomato Salsa, [Fajita Vegetables, Rice, Cheese]', '[Fresh Tomato Salsa (Mild), Tomatillo-Red Chili Salsa (Hot)], [Rice, Cheese, Sour Cream]', 'Fresh Tomato Salsa, [Fajita Vegetables, Rice, Black Beans, Pinto Beans, Cheese, Lettuce]', 'Tomatillo-Red Chili Salsa (Hot), Rice', 'Tomatillo Green Chili Salsa, [Rice, Pinto Beans, Cheese, Guacamole]', 'Tomatillo-Red Chili Salsa (Hot), [Black Beans, Rice]', 'Fresh Tomato Salsa, [Rice, Black Beans, Sour Cream, Lettuce]', 'Fresh Tomato Salsa, [Fajita Vegetables, Rice, Black Beans, Pinto Beans, Guacamole, Lettuce]', 'Roasted Chili Corn Salsa, [Rice, Pinto Beans, Cheese, Lettuce, Guacamole]', 'Roasted Chili Corn Salsa (Medium), [Rice, Pinto Beans, Lettuce]', 'Tomatillo Green Chili Salsa, [Rice, Fajita Vegetables, Sour Cream]', 'Roasted Chili Corn Salsa, [Fajita Vegetables, Black Beans, Sour Cream, Lettuce, Guacamole]', '[Fresh Tomato Salsa (Mild), Roasted Chili Corn Salsa (Medium)], [Rice, Fajita Veggies, Sour Cream]', 'Tomatillo-Green Chili Salsa (Medium), [Rice, Cheese, Sour Cream]', 'Tomatillo-Green Chili Salsa (Medium), [Pinto Beans, Rice, Fajita Veggies, Cheese, Sour Cream, Guacamole, Lettuce]', 'Roasted Chili Corn Salsa (Medium), [Rice, Black Beans, Fajita Veggies, Sour Cream]', 'Tomatillo Green Chili Salsa, [Rice, Black Beans, Cheese, Sour Cream, Lettuce]', 'Fresh Tomato Salsa, [Sour Cream, Cheese, Guacamole, Rice]', 'Fresh Tomato Salsa, Rice', 'Tomatillo-Green Chili Salsa (Medium), [Black Beans, Rice, Cheese, Sour Cream, Lettuce]', 'Fresh Tomato Salsa, [Rice, Fajita Vegetables, Sour Cream, Cheese, Lettuce]', '[Fresh Tomato Salsa (Mild), Roasted Chili Corn Salsa (Medium), Tomatillo-Red Chili Salsa (Hot)], [Rice, Fajita Veggies, Cheese, Lettuce]', 'Fresh Tomato Salsa, [Fajita Vegetables, Rice, Pinto Beans, Cheese, Lettuce]', 'Fresh Tomato Salsa (Mild), [Rice, Fajita Veggies, Cheese, Sour Cream, Guacamole]', 'Fresh Tomato Salsa (Mild), [Pinto Beans, Rice, Fajita Veggies, Sour Cream]', 'Fresh Tomato Salsa (Mild), [Cheese, Sour Cream, Lettuce]', 'Roasted Chili Corn Salsa, [Fajita Vegetables, Rice, Black Beans, Cheese, Guacamole, Lettuce]', '[Fresh Tomato Salsa (Mild), Roasted Chili Corn Salsa (Medium)], [Black Beans, Rice, Fajita Veggies, Cheese, Lettuce]', 'Fresh Tomato Salsa (Mild), [Rice, Fajita Veggies, Cheese, Lettuce]', 'Fresh Tomato Salsa, [Rice, Sour Cream, Guacamole, Lettuce]', 'Roasted Chili Corn Salsa, [Rice, Pinto Beans, Guacamole, Lettuce]', '[Roasted Chili Corn Salsa (Medium), Tomatillo-Green Chili Salsa (Medium)], [Rice, Black Beans, Sour Cream]', 'Tomatillo Red Chili Salsa, [Rice, Pinto Beans, Cheese]', 'Braised Barbacoa, Vegetarian Black Beans, [Sour Cream, Salsa, Cheese, Cilantro-Lime Rice]', 'Roasted Chili Corn Salsa, [Rice, Cheese, Guacamole]', 'Tomatillo Green Chili Salsa, [Lettuce, Guacamole, Sour Cream, Cheese, Fajita Vegetables, Rice]', 'Fresh Tomato Salsa, [Rice, Cheese, Sour Cream]', 'Tomatillo-Red Chili Salsa (Hot), [Rice, Cheese, Sour Cream, Lettuce]', 'Tomatillo Red Chili Salsa, [Rice, Black Beans, Cheese, Sour Cream, Guacamole, Lettuce]', 'Fresh Tomato Salsa, [Fajita Vegetables, Rice]', 'Tomatillo Red Chili Salsa, [Fajita Vegetables, Rice, Black Beans, Pinto Beans, Cheese, Sour Cream, Guacamole, Lettuce]', 'Tomatillo Green Chili Salsa, [Rice, Black Beans, Lettuce]', 'Fresh Tomato Salsa (Mild), [Rice, Fajita Veggies, Cheese, Sour Cream, Lettuce]', 'Roasted Chili Corn Salsa, [Rice, Black Beans, Cheese, Lettuce]', 'Fresh Tomato Salsa, [Rice, Sour Cream, Cheese, Lettuce]', 'Tomatillo Green Chili Salsa, [Rice, Black Beans, Sour Cream, Lettuce]', 'Roasted Chili Corn Salsa (Medium), [Black Beans, Fajita Veggies, Cheese, Sour Cream, Guacamole]', 'Tomatillo Green Chili Salsa, [Rice, Cheese, Lettuce]', 'Roasted Chili Corn Salsa, [Rice, Fajita Vegetables]', 'Fresh Tomato Salsa (Mild), [Black Beans, Rice, Fajita Veggies, Cheese]', 'Fresh Tomato Salsa (Mild), [Rice, Cheese, Sour Cream, Guacamole, Lettuce]', '[Tomatillo-Green Chili Salsa (Medium), Roasted Chili Corn Salsa (Medium)], [Pinto Beans, Black Beans, Rice, Fajita Veggies, Cheese, Sour Cream, Guacamole, Lettuce]', 'Roasted Chili Corn Salsa, [Fajita Vegetables, Rice, Pinto Beans, Guacamole, Lettuce]', 'Fresh Tomato Salsa (Mild), [Pinto Beans, Rice, Fajita Veggies, Cheese, Sour Cream, Lettuce]', 'Tomatillo Red Chili Salsa, [Fajita Vegetables, Rice, Black Beans, Cheese, Sour Cream, Lettuce]', 'Tomatillo Red Chili Salsa, [Rice, Cheese, Sour Cream]', '[Fresh Tomato Salsa (Mild), Tomatillo-Red Chili Salsa (Hot)], [Pinto Beans, Fajita Veggies, Cheese, Guacamole]', 'Tomatillo Green Chili Salsa, [Cheese, Lettuce, Rice, Pinto Beans]', '[Fresh Tomato Salsa (Mild), Tomatillo-Green Chili Salsa (Medium), Tomatillo-Red Chili Salsa (Hot)], [Pinto Beans, Black Beans, Rice, Fajita Veggies, Cheese, Sour Cream, Lettuce]', 'Roasted Chili Corn Salsa, [Rice, Cheese, Guacamole, Lettuce]', 'Fresh Tomato Salsa, [Fajita Vegetables, Rice, Black Beans, Cheese, Sour Cream]', 'Fresh Tomato Salsa, [Rice, Pinto Beans, Cheese, Sour Cream, Guacamole]', 'Tomatillo Red Chili Salsa, [Rice, Sour Cream, Cheese, Guacamole]', 'Tomatillo Green Chili Salsa', 'Tomatillo Green Chili Salsa, [Rice, Fajita Vegetables, Black Beans, Cheese]', 'Roasted Chili Corn Salsa, [Rice, Pinto Beans, Cheese, Guacamole]', 'Fresh Tomato Salsa, [Rice, Black Beans, Cheese, Guacamole, Lettuce]', '[Fresh Tomato Salsa (Mild), Tomatillo-Red Chili Salsa (Hot)], [Rice, Fajita Veggies, Cheese, Sour Cream, Guacamole, Lettuce]', 'Tomatillo-Green Chili Salsa (Medium), [Rice, Cheese, Guacamole]', 'Fresh Tomato Salsa, [Sour Cream, Cheese, Lettuce, Guacamole]', 'Tomatillo Green Chili Salsa, [Cheese, Lettuce, Pinto Beans, Rice]', 'Fresh Tomato Salsa (Mild), [Cheese, Rice, Pinto Beans, Sour Cream]', 'Tomatillo-Green Chili Salsa (Medium), [Cheese, Lettuce]', 'Roasted Chili Corn Salsa (Medium), [Rice, Fajita Veggies, Sour Cream, Guacamole, Lettuce]', 'Tomatillo Red Chili Salsa, [Fajita Vegetables, Rice, Sour Cream, Guacamole, Lettuce]', 'Tomatillo Red Chili Salsa, [Rice, Pinto Beans, Sour Cream, Guacamole, Lettuce]', 'Fresh Tomato Salsa (Mild), [Pinto Beans, Rice, Cheese, Sour Cream, Lettuce]', 'Tomatillo Green Chili Salsa, [Rice, Cheese, Sour Cream, Guacamole]', 'Roasted Chili Corn Salsa, [Fajita Vegetables, Rice, Cheese, Sour Cream, Lettuce]', 'Tomatillo Green Chili Salsa, [Fajita Vegetables, Rice, Cheese, Sour Cream]', 'White Rice, Adobo-Marinated and Grilled Steak, [Salsa, Cheese]', 'Tomatillo-Red Chili Salsa (Hot), [Pinto Beans, Rice, Fajita Veggies, Cheese, Sour Cream]', 'Tomatillo Red Chili Salsa, [Fajita Vegetables, Rice, Cheese, Sour Cream, Lettuce]', '[Roasted Chili Corn Salsa (Medium), Tomatillo-Red Chili Salsa (Hot)], [Cheese, Lettuce]', 'Fresh Tomato Salsa, [Rice, Black Beans, Cheese, Sour Cream, Guacamole]', 'Fresh Tomato Salsa, [Fajita Vegetables, Rice, Sour Cream, Lettuce]', 'Fresh Tomato Salsa (Mild), [Pinto Beans, Cheese, Lettuce]', 'Roasted Chili Corn Salsa, Fajita Vegetables', 'Fresh Tomato Salsa, [Pinto Beans, Cheese, Sour Cream]', 'Tomatillo Red Chili Salsa, [Rice, Black Beans, Cheese, Guacamole]', 'Fresh Tomato Salsa (Mild), [Rice, Fajita Veggies, Cheese, Sour Cream, Guacamole, Lettuce]', 'Tomatillo Green Chili Salsa, [Fajita Vegetables, Pinto Beans, Sour Cream, Cheese, Lettuce]', 'Fresh Tomato Salsa, [Pinto Beans, Cheese, Sour Cream, Lettuce]', 'Tomatillo-Red Chili Salsa (Hot), [Pinto Beans, Rice, Cheese, Guacamole]', 'Tomatillo-Green Chili Salsa (Medium), [Black Beans, Rice, Fajita Veggies, Cheese, Sour Cream, Lettuce]', 'Fresh Tomato Salsa (Mild), Black Beans', 'Fresh Tomato Salsa, [Rice, Black Beans, Cheese, Sour Cream]', 'Fresh Tomato Salsa, [Rice, Black Beans, Cheese, Lettuce]', 'Roasted Chili Corn Salsa (Medium), [Black Beans, Lettuce]', 'Tomatillo Green Chili Salsa, [Rice, Black Beans, Sour Cream, Cheese, Lettuce]', '[Fresh Tomato Salsa (Mild), Tomatillo-Red Chili Salsa (Hot)], [Pinto Beans, Rice, Cheese, Sour Cream]', 'Tomatillo-Red Chili Salsa (Hot), [Rice, Cheese, Sour Cream, Guacamole]', 'Tomatillo Red Chili Salsa, [Cheese, Sour Cream]', 'Fresh Tomato Salsa, [Cheese, Sour Cream, Guacamole]', 'Fresh Tomato Salsa, [Fajita Vegetables, Rice, Pinto Beans, Cheese, Sour Cream, Lettuce]', 'Roasted Chili Corn Salsa, [Fajita Vegetables, Rice, Black Beans, Cheese, Sour Cream, Lettuce]', 'Roasted Chili Corn Salsa, [Rice, Black Beans, Sour Cream, Cheese, Lettuce]', 'Fresh Tomato Salsa, [Rice, Cheese, Sour Cream, Guacamole]', '[Fresh Tomato Salsa (Mild), Roasted Chili Corn Salsa (Medium)], [Black Beans, Rice, Cheese, Sour Cream, Lettuce]', 'Tomatillo Red Chili Salsa, [Rice, Black Beans, Sour Cream, Lettuce]', 'Tomatillo-Red Chili Salsa (Hot), [Black Beans, Rice, Cheese, Sour Cream, Guacamole, Lettuce]', 'Roasted Chili Corn Salsa, [Black Beans, Cheese, Sour Cream, Guacamole, Lettuce]', 'Roasted Chili Corn Salsa (Medium), [Black Beans, Cheese, Sour Cream, Lettuce]', '[Roasted Chili Corn Salsa (Medium), Fresh Tomato Salsa (Mild)], [Lettuce, Black Beans, Sour Cream, Cheese, Rice, Fajita Veggies, Pinto Beans]', 'Fresh Tomato Salsa, [Fajita Vegetables, Rice, Cheese, Sour Cream, Guacamole, Lettuce]', 'Tomatillo Green Chili Salsa, [Fajita Vegetables, Rice, Black Beans, Cheese, Lettuce]', 'Tomatillo Red Chili Salsa, [Fajita Vegetables, Rice, Black Beans, Sour Cream, Guacamole]', 'Fresh Tomato Salsa, [Cheese, Sour Cream, Lettuce]', 'Roasted Chili Corn Salsa, [Fajita Vegetables, Pinto Beans, Sour Cream, Cheese]', 'Tomatillo Red Chili Salsa, [Rice, Black Beans, Cheese, Lettuce, Sour Cream]', 'Fresh Tomato Salsa (Mild), [Rice, Fajita Veggies, Lettuce]', 'Fresh Tomato Salsa (Mild), [Pinto Beans, Black Beans, Rice, Cheese, Sour Cream, Lettuce]', 'Tomatillo-Red Chili Salsa (Hot), [Black Beans, Rice, Fajita Veggies, Cheese, Sour Cream]', 'Fresh Tomato Salsa, [Fajita Vegetables, Rice, Black Beans, Guacamole, Lettuce]', 'Tomatillo Green Chili Salsa, [Rice, Pinto Beans, Sour Cream]', 'Tomatillo Green Chili Salsa, [Rice, Pinto Beans, Cheese, Lettuce]', 'Fresh Tomato (Mild), [Black Beans, Rice, Sour Cream, Cheese]', 'Tomatillo Red Chili Salsa, [Cheese, Guacamole]', 'Fresh Tomato Salsa, [Black Beans, Pinto Beans, Cheese, Guacamole, Lettuce]', 'Fresh Tomato Salsa (Mild), [Pinto Beans, Cheese]', '[Tomatillo-Red Chili Salsa (Hot), Fresh Tomato Salsa (Mild)], [Rice, Black Beans, Cheese, Lettuce]', 'Fresh Tomato Salsa, [Lettuce, Rice, Black Beans, Cheese]', 'Tomatillo-Red Chili Salsa (Hot), [Black Beans, Rice, Cheese, Lettuce]', 'Tomatillo-Green Chili Salsa (Medium), [Black Beans, Rice, Cheese]', 'Tomatillo Red Chili Salsa, [Rice, Fajita Vegetables, Black Beans, Lettuce]', 'Tomatillo Red Chili Salsa, [Black Beans, Cheese, Sour Cream]', 'Tomatillo Green Chili Salsa, [Rice, Black Beans, Cheese, Guacamole, Lettuce]', 'Tomatillo Red Chili Salsa, [Rice, Fajita Vegetables, Pinto Beans, Sour Cream, Cheese]', 'Adobo-Marinated and Grilled Chicken, [Sour Cream, Cheese, Cilantro-Lime Rice]', 'Fresh Tomato Salsa, [Rice, Sour Cream, Cheese, Guacamole]', 'Roasted Chili Corn Salsa, [Rice, Fajita Vegetables, Sour Cream, Cheese, Lettuce]', 'Fresh Tomato Salsa, [Rice, Black Beans, Cheese, Sour Cream, Lettuce]', '[Fresh Tomato Salsa (Mild), Tomatillo-Green Chili Salsa (Medium), Roasted Chili Corn Salsa (Medium)], [Pinto Beans, Rice, Fajita Veggies, Cheese, Lettuce]', 'Tomatillo Green Chili Salsa, [Rice, Sour Cream, Guacamole, Lettuce]', 'Tomatillo Red Chili Salsa, [Rice, Black Beans, Cheese, Guacamole, Lettuce]', 'Roasted Chili Corn Salsa, [Rice, Fajita Vegetables, Sour Cream, Lettuce, Guacamole]', '[Fresh Tomato Salsa (Mild), Tomatillo-Green Chili Salsa (Medium), Roasted Chili Corn Salsa (Medium)], [Black Beans, Rice, Fajita Veggies, Sour Cream, Lettuce]', '[Tomatillo-Green Chili Salsa (Medium), Tomatillo-Red Chili Salsa (Hot)], [Pinto Beans, Rice, Cheese, Sour Cream, Guacamole, Lettuce]', 'Tomatillo Red Chili Salsa, [Rice, Fajita Vegetables, Sour Cream, Cheese, Lettuce, Guacamole]', 'Fresh Tomato Salsa, [Rice, Pinto Beans, Cheese, Guacamole, Lettuce]', 'Fresh Tomato Salsa, [Rice, Sour Cream, Lettuce, Guacamole]', 'Tomatillo Green Chili Salsa, [Rice, Black Beans, Cheese, Lettuce]', 'Roasted Chili Corn Salsa, [Fajita Vegetables, Sour Cream, Lettuce, Guacamole]', 'Fresh Tomato Salsa (Mild), [Rice, Pinto Beans, Cheese, Sour Cream]', '[Fresh Tomato Salsa (Mild), Roasted Chili Corn Salsa (Medium), Tomatillo-Red Chili Salsa (Hot)], [Black Beans, Rice, Sour Cream]', 'Fresh Tomato Salsa, [Cheese, Sour Cream]', 'Fresh Tomato Salsa (Mild), [Pinto Beans, Cheese, Sour Cream]', '[Tomatillo-Green Chili Salsa (Medium), Roasted Chili Corn Salsa (Medium), Tomatillo-Red Chili Salsa (Hot)], [Pinto Beans, Rice, Fajita Veggies, Cheese, Sour Cream, Guacamole, Lettuce]', 'Tomatillo-Red Chili Salsa (Hot), [Black Beans, Rice, Cheese, Sour Cream, Lettuce]', 'Fresh Tomato Salsa, [Fajita Vegetables, Rice, Pinto Beans, Cheese, Sour Cream]', '[Tomatillo-Green Chili Salsa (Medium), Roasted Chili Corn Salsa (Medium), Tomatillo-Red Chili Salsa (Hot)], [Pinto Beans, Rice, Fajita Veggies, Cheese, Sour Cream, Lettuce]', 'Tomatillo Red Chili Salsa, [Rice, Pinto Beans, Cheese, Sour Cream, Lettuce]', 'Tomatillo-Red Chili Salsa (Hot), [Black Beans, Fajita Veggies, Cheese, Sour Cream, Guacamole, Lettuce]', 'Fresh Tomato Salsa (Mild), [Black Beans, Rice, Cheese, Lettuce]', '[Tomatillo-Green Chili Salsa (Medium), Tomatillo-Red Chili Salsa (Hot)], [Black Beans, Rice, Cheese, Sour Cream, Guacamole]', 'Tomatillo-Red Chili Salsa (Hot), [Pinto Beans, Rice, Cheese, Sour Cream]', 'Tomatillo Red Chili Salsa, [Rice, Fajita Vegetables, Black Beans, Cheese, Lettuce, Guacamole]', 'Fresh Tomato Salsa, [Fajita Vegetables, Rice, Black Beans, Cheese, Sour Cream, Lettuce]', 'Roasted Chili Corn Salsa (Medium), [Rice, Fajita Veggies, Cheese, Sour Cream, Lettuce]', 'Tomatillo Green Chili Salsa, [Rice, Fajita Vegetables, Black Beans, Guacamole]', 'Fresh Tomato (Mild), [Black Beans, Guacamole, Rice, Sour Cream, Cheese]', 'Roasted Chili Corn Salsa, [Fajita Vegetables, Rice, Black Beans, Cheese, Sour Cream]', 'Fresh Tomato (Mild), [Guacamole, Rice, Sour Cream, Cheese]', 'Roasted Chili Corn Salsa, [Rice, Fajita Vegetables, Cheese, Lettuce, Guacamole]', '[Roasted Chili Corn Salsa (Medium), Fresh Tomato Salsa (Mild)], [Rice, Black Beans, Sour Cream]', 'Tomatillo Red Chili Salsa, [Rice, Black Beans, Pinto Beans, Cheese, Sour Cream, Lettuce]', 'Tomatillo-Green Chili Salsa (Medium), [Pinto Beans, Rice, Fajita Veggies, Cheese, Sour Cream, Lettuce]', 'Fresh Tomato Salsa (Mild), [Pinto Beans, Cheese, Sour Cream, Lettuce]', 'Fresh Tomato Salsa, [Black Beans, Pinto Beans, Cheese, Sour Cream, Lettuce]', 'Tomatillo-Red Chili Salsa (Hot), [Rice, Pinto Beans, Cheese]', 'Roasted Chili Corn Salsa, [Rice, Pinto Beans, Cheese, Sour Cream]', 'Roasted Chili Corn Salsa, [Fajita Vegetables, Rice, Black Beans, Pinto Beans, Cheese, Sour Cream, Lettuce]', 'Tomatillo-Red Chili Salsa (Hot), [Black Beans, Rice, Cheese, Sour Cream, Guacamole]', 'Roasted Chili Corn Salsa, [Cheese, Rice, Guacamole]', '[Fresh Tomato Salsa (Mild), Tomatillo-Red Chili Salsa (Hot)], [Rice, Cheese, Sour Cream, Guacamole, Lettuce]', 'Tomatillo-Red Chili Salsa (Hot), [Rice, Fajita Veggies, Cheese]', 'Tomatillo Green Chili Salsa, [Rice, Pinto Beans, Cheese, Sour Cream, Guacamole]', 'Fresh Tomato Salsa, [Rice, Cheese, Sour Cream, Guacamole, Lettuce]', 'Tomatillo-Red Chili Salsa (Hot), [Rice, Fajita Veggies, Cheese, Sour Cream]', 'Fresh Tomato (Mild), [Lettuce, Black Beans, Guacamole, Rice, Sour Cream, Cheese]', 'Fresh Tomato Salsa, [Sour Cream, Rice, Guacamole, Lettuce]', 'Roasted Chili Corn Salsa, [Pinto Beans, Rice, Guacamole, Sour Cream, Cheese]', '[Fresh Tomato Salsa (Mild), Tomatillo-Red Chili Salsa (Hot)], [Black Beans, Rice, Cheese, Sour Cream]', 'Fresh Tomato Salsa, [Rice, Black Beans, Sour Cream, Cheese, Lettuce]', 'Tomatillo Red Chili Salsa, [Rice, Black Beans, Cheese]', 'Roasted Chili Corn Salsa (Medium), [Black Beans, Rice, Cheese, Guacamole, Lettuce]', 'Roasted Chili Corn Salsa, [Rice, Pinto Beans, Cheese, Sour Cream, Lettuce]', 'Tomatillo Green Chili Salsa, [Fajita Vegetables, Cheese, Sour Cream, Lettuce]', 'Fresh Tomato Salsa (Mild), [Black Beans, Rice, Sour Cream, Guacamole]', 'Roasted Chili Corn Salsa (Medium), [Black Beans, Rice, Fajita Veggies, Cheese, Lettuce]', 'Fresh Tomato Salsa, [Rice, Pinto Beans, Cheese, Sour Cream, Lettuce]', '[Tomatillo-Red Chili Salsa (Hot), Fresh Tomato Salsa (Mild), Tomatillo-Green Chili Salsa (Medium)], [Rice, Pinto Beans, Cheese]', 'Roasted Chili Corn Salsa (Medium), [Black Beans, Rice, Cheese, Sour Cream, Lettuce]', 'Roasted Chili Corn Salsa, [Fajita Vegetables, Rice, Black Beans, Cheese]', '[Tomatillo-Green Chili Salsa (Medium), Roasted Chili Corn Salsa (Medium), Tomatillo-Red Chili Salsa (Hot)], [Black Beans, Rice, Cheese, Sour Cream, Guacamole, Lettuce]', 'Roasted Chili Corn Salsa, [Fajita Vegetables, Rice, Black Beans, Guacamole]', 'Tomatillo-Green Chili Salsa (Medium), [Black Beans, Rice, Cheese, Lettuce]', 'Fresh Tomato Salsa (Mild), [Rice, Cheese, Sour Cream, Lettuce]', 'Roasted Chili Corn Salsa (Medium), [Black Beans, Rice, Cheese]', 'Tomatillo Green Chili Salsa, Guacamole', 'Fresh Tomato (Mild), [Lettuce, Rice]', '[Tomatillo-Green Chili Salsa (Medium), Roasted Chili Corn Salsa (Medium)], [Black Beans, Rice, Cheese]', '[Roasted Chili Corn Salsa (Medium), Tomatillo-Red Chili Salsa (Hot)], [Black Beans, Rice, Cheese, Sour Cream]', 'Roasted Chili Corn Salsa (Medium), [Rice, Fajita Veggies, Cheese, Sour Cream, Guacamole, Lettuce]', '[Fresh Tomato Salsa (Mild), Roasted Chili Corn Salsa (Medium)], [Black Beans, Rice, Fajita Veggies, Cheese, Sour Cream, Lettuce]', 'Tomatillo Green Chili Salsa, [Rice, Fajita Vegetables, Sour Cream, Cheese, Lettuce, Guacamole]', 'Fresh Tomato Salsa, [Rice, Cheese, Lettuce, Pinto Beans]', 'Fresh Tomato Salsa, [Rice, Black Beans, Cheese, Guacamole]', 'Roasted Chili Corn Salsa, [Rice, Black Beans, Guacamole]', 'Roasted Chili Corn Salsa, [Guacamole, Lettuce, Rice, Fajita Vegetables, Sour Cream]', 'Tomatillo Red Chili Salsa, [Black Beans, Cheese, Guacamole]', 'Roasted Chili Corn Salsa (Medium), [Pinto Beans, Rice, Fajita Veggies, Cheese, Lettuce]', 'Roasted Chili Corn Salsa, [Rice, Fajita Vegetables, Black Beans, Sour Cream, Cheese, Lettuce]', '[Roasted Chili Corn Salsa (Medium), Tomatillo-Red Chili Salsa (Hot)], [Black Beans, Rice, Fajita Veggies, Cheese, Guacamole, Lettuce]', 'Roasted Chili Corn Salsa, [Lettuce, Black Beans, Cheese]', '[Roasted Chili Corn Salsa (Medium), Tomatillo-Green Chili Salsa (Medium)], [Rice, Black Beans, Pinto Beans, Fajita Veggies, Cheese, Sour Cream, Lettuce]', 'Tomatillo Red Chili Salsa, [Fajita Vegetables, Rice, Black Beans, Cheese, Sour Cream, Guacamole, Lettuce]', 'Tomatillo-Red Chili Salsa (Hot), [Pinto Beans, Rice, Fajita Veggies, Cheese, Lettuce]', 'Tomatillo Red Chili Salsa, [Fajita Vegetables, Rice, Black Beans, Pinto Beans, Cheese, Sour Cream, Lettuce]', 'Roasted Chili Corn Salsa (Medium), [Rice, Black Beans, Pinto Beans, Fajita Veggies, Lettuce]', 'Roasted Chili Corn Salsa, [Fajita Vegetables, Rice, Black Beans, Pinto Beans, Guacamole, Lettuce]', 'Roasted Chili Corn Salsa, [Fajita Vegetables, Rice, Pinto Beans, Cheese, Sour Cream]', 'Tomatillo Red Chili Salsa, [Fajita Vegetables, Rice, Black Beans, Cheese, Guacamole, Lettuce]', 'Fresh Tomato Salsa (Mild), [Black Beans, Rice, Cheese]', '[Tomatillo-Green Chili Salsa (Medium), Roasted Chili Corn Salsa (Medium), Tomatillo-Red Chili Salsa (Hot)], [Black Beans, Rice, Fajita Veggies, Lettuce]', 'Braised Barbacoa, Pinto Beans, [Sour Cream, Salsa, Cheese, Cilantro-Lime Rice, Guacamole]', 'Fresh Tomato Salsa, [Rice, Black Beans, Sour Cream, Cheese, Lettuce, Guacamole]', 'Fresh Tomato Salsa, [Sour Cream, Cheese, Pinto Beans, Rice]', 'Tomatillo-Red Chili Salsa (Hot), [Rice, Black Beans, Cheese, Lettuce]', 'Roasted Chili Corn (Medium), [Sour Cream, Cheese]', 'Tomatillo Red Chili Salsa, [Rice, Fajita Vegetables, Cheese, Lettuce, Guacamole]', 'Tomatillo-Red Chili Salsa (Hot), [Black Beans, Rice, Fajita Veggies, Cheese]', 'Fresh Tomato Salsa (Mild), [Fajita Veggies, Guacamole, Lettuce]', 'Tomatillo Green Chili Salsa, [Fajita Vegetables, Cheese, Sour Cream, Guacamole, Lettuce, Rice]', 'Fresh Tomato Salsa, [Fajita Vegetables, Rice, Black Beans, Cheese, Guacamole, Lettuce]', '[Fresh Tomato Salsa (Mild), Tomatillo-Red Chili Salsa (Hot)], [Rice, Cheese, Sour Cream, Guacamole]', 'Tomatillo Red Chili Salsa, [Rice, Black Beans, Cheese, Sour Cream, Lettuce]', '[Tomatillo-Green Chili Salsa (Medium), Tomatillo-Red Chili Salsa (Hot)], [Rice, Cheese, Sour Cream, Lettuce]', 'Roasted Chili Corn Salsa (Medium), [Rice, Cheese, Sour Cream, Lettuce]', 'Tomatillo Red Chili (Hot), [Lettuce, Rice, Cheese]', 'Tomatillo Green Chili Salsa, [Fajita Vegetables, Rice, Cheese, Guacamole, Lettuce]'}\n"
     ]
    }
   ],
   "source": [
    "#the various burrito toppings\n",
    "unique_burritos= set(burritos)\n",
    "print(unique_burritos)"
   ]
  },
  {
   "cell_type": "code",
   "execution_count": 17,
   "metadata": {},
   "outputs": [
    {
     "name": "stdout",
     "output_type": "stream",
     "text": [
      "6323\n"
     ]
    }
   ],
   "source": [
    "number_toppings = 0\n",
    "for row in data:\n",
    "    if 'Burrito' in row[2]:\n",
    "        number_toppings +=(row[3].count(',') + 1)\n",
    "print (number_toppings)        "
   ]
  },
  {
   "cell_type": "code",
   "execution_count": 21,
   "metadata": {},
   "outputs": [
    {
     "name": "stdout",
     "output_type": "stream",
     "text": [
      "5.4\n"
     ]
    }
   ],
   "source": [
    "#Answer\n",
    "avg_num_toppings = round(number_toppings/number_burritos,2)\n",
    "print(avg_num_toppings)"
   ]
  },
  {
   "cell_type": "code",
   "execution_count": null,
   "metadata": {},
   "outputs": [],
   "source": []
  },
  {
   "cell_type": "code",
   "execution_count": null,
   "metadata": {},
   "outputs": [],
   "source": []
  },
  {
   "cell_type": "markdown",
   "metadata": {},
   "source": [
    "### Part 6: Create a dictionary. Let the keys represent chip orders and the values represent the total number of orders.\n",
    "\n",
    "Expected output: `{'Chips and Roasted Chili-Corn Salsa': 18, ... }`\n",
    "\n",
    "Note: Please take the `quantity` column into account!\n",
    "\n",
    "Optional: Learn how to use `.defaultdict()` to simplify your code."
   ]
  },
  {
   "cell_type": "code",
   "execution_count": 25,
   "metadata": {},
   "outputs": [],
   "source": [
    "chips ={}\n",
    "for row in data:\n",
    "    if 'Chips' in row[2]:\n",
    "        if row[2] not in chips:\n",
    "            chips[row[2]] = int(row[1])     \n",
    "        else:\n",
    "            chips[row[2]] += int(row[1]) "
   ]
  },
  {
   "cell_type": "code",
   "execution_count": 64,
   "metadata": {},
   "outputs": [
    {
     "name": "stdout",
     "output_type": "stream",
     "text": [
      "{\n",
      "    \"Chips and Fresh Tomato Salsa\": 130,\n",
      "    \"Chips and Tomatillo-Green Chili Salsa\": 33,\n",
      "    \"Side of Chips\": 110,\n",
      "    \"Chips and Guacamole\": 506,\n",
      "    \"Chips and Tomatillo Green Chili Salsa\": 45,\n",
      "    \"Chips\": 230,\n",
      "    \"Chips and Tomatillo Red Chili Salsa\": 50,\n",
      "    \"Chips and Roasted Chili-Corn Salsa\": 18,\n",
      "    \"Chips and Roasted Chili Corn Salsa\": 23,\n",
      "    \"Chips and Tomatillo-Red Chili Salsa\": 25,\n",
      "    \"Chips and Mild Fresh Tomato Salsa\": 1\n",
      "}\n"
     ]
    }
   ],
   "source": [
    "import json\n",
    "print(json.dumps(chips, indent=4))"
   ]
  },
  {
   "cell_type": "code",
   "execution_count": null,
   "metadata": {},
   "outputs": [],
   "source": []
  },
  {
   "cell_type": "code",
   "execution_count": null,
   "metadata": {},
   "outputs": [],
   "source": []
  },
  {
   "cell_type": "markdown",
   "metadata": {},
   "source": [
    "---\n",
    "\n",
    "## Bonus: Craft a problem statement about this data that interests you, and then answer it!\n"
   ]
  },
  {
   "cell_type": "code",
   "execution_count": null,
   "metadata": {},
   "outputs": [],
   "source": []
  },
  {
   "cell_type": "code",
   "execution_count": null,
   "metadata": {},
   "outputs": [],
   "source": []
  },
  {
   "cell_type": "code",
   "execution_count": null,
   "metadata": {},
   "outputs": [],
   "source": []
  },
  {
   "cell_type": "code",
   "execution_count": null,
   "metadata": {},
   "outputs": [],
   "source": []
  }
 ],
 "metadata": {
  "anaconda-cloud": {},
  "kernelspec": {
   "display_name": "Python 3",
   "language": "python",
   "name": "python3"
  },
  "language_info": {
   "codemirror_mode": {
    "name": "ipython",
    "version": 3
   },
   "file_extension": ".py",
   "mimetype": "text/x-python",
   "name": "python",
   "nbconvert_exporter": "python",
   "pygments_lexer": "ipython3",
   "version": "3.8.3"
  }
 },
 "nbformat": 4,
 "nbformat_minor": 2
}
