{
 "cells": [
  {
   "cell_type": "markdown",
   "metadata": {},
   "source": [
    "<img src=\"http://imgur.com/1ZcRyrc.png\" style=\"float: left; margin: 20px; height: 55px\">\n",
    "\n",
    "# Project 1: Python Coding Exercises\n",
    "\n",
    "_Authors: Joseph Nelson (DC) _\n",
    "\n",
    "---"
   ]
  },
  {
   "cell_type": "markdown",
   "metadata": {},
   "source": [
    "The following code challenges are drawn from common exercises used in technical interviews.\n",
    "\n",
    "Please note that there may be several ways to approach each challenge. If you get stuck, try mapping out your approach in pseudocode first. Finally, while solutions to problems like these may be found online, remember that if you copy/paste code that you can't explain, you'll be missing out on the point of the project. The only way to truly learn a new skill is through practice, trial, and error - we can only help you improve by understanding where you are having trouble."
   ]
  },
  {
   "cell_type": "markdown",
   "metadata": {},
   "source": [
    "### Challenge 1: Largest Palindrome\n",
    "A palindromic number reads the same both ways. For example, 1234321 is a palindrome. The largest palindrome made from the product of two two-digit numbers is 9009 = 91 × 99. Find the largest palindrome made from the product of two three-digit numbers. Afterward, write a brief explanation walking through your code's logic in markdown."
   ]
  },
  {
   "cell_type": "code",
   "execution_count": 71,
   "metadata": {},
   "outputs": [
    {
     "data": {
      "text/plain": [
       "<function __main__.palindrome(low_num, high_num)>"
      ]
     },
     "execution_count": 71,
     "metadata": {},
     "output_type": "execute_result"
    }
   ],
   "source": [
    "def palindrome(low_num, high_num):\n",
    "    palindrome_list = []\n",
    "    '''\n",
    "    Input:\n",
    "        a range consisting of a low number and high number\n",
    "    Output:\n",
    "        the largest palindrome created from the product of the numbers within the given range\n",
    "     '''   \n",
    "    for x in range(low_num, high_num):\n",
    "        for y in range(x, high_num):\n",
    "            if str(x*y) == str(x*y)[::-1]:\n",
    "                palindrome_list.append(x*y)\n",
    "                 \n",
    "    return palindrome\n",
    "    \n",
    "    print(max(palindrome_list))\n",
    "    \n",
    "    \n",
    "palindrome(100,1000)    \n",
    "\n",
    "\n",
    "\n",
    "      \n",
    "    "
   ]
  },
  {
   "cell_type": "markdown",
   "metadata": {},
   "source": [
    "\n",
    "### Challenge 2: Summation of Primes\n",
    "The sum of the primes below 10 is 2 + 3 + 5 + 7 = 17. Find the sum of all the primes below 2,000. Afterward, write a brief explanation walking through your code's logic in markdown."
   ]
  },
  {
   "cell_type": "code",
   "execution_count": 62,
   "metadata": {},
   "outputs": [
    {
     "name": "stdout",
     "output_type": "stream",
     "text": [
      "find prime numbers up to what number?:2000\n",
      "277050\n"
     ]
    }
   ],
   "source": [
    "max = int(input(\"find prime numbers up to what number?:\"))\n",
    "prime_list =[]\n",
    "'''\n",
    "    Input:\n",
    "        an integer designating the maximum range \n",
    "    Output:\n",
    "        the sum of all the prime numbers up to the maximum value designated\n",
    "'''        \n",
    "        \n",
    "for x in range(2, max+1):\n",
    "    confirm_prime = True\n",
    "    for y in range(2,x):\n",
    "        if x%y == 0:\n",
    "            confirm_prime = False\n",
    "           \n",
    "        \n",
    "            break\n",
    "            \n",
    "    if confirm_prime :\n",
    "        prime_list.append(x)             \n",
    "print(sum(prime_list))"
   ]
  },
  {
   "cell_type": "markdown",
   "metadata": {},
   "source": [
    "### Challenge 3: Multiples of 3 and 5\n",
    "If we list all of the natural numbers below 10 that are multiples of 3 or 5, we get 3, 5, 6, and 9. The sum of these multiples is 23. Find the sum of all the multiples of 3 and 5 below 1,000. Afterward, write a brief explanation walking through your code's logic in markdown."
   ]
  },
  {
   "cell_type": "code",
   "execution_count": 36,
   "metadata": {},
   "outputs": [
    {
     "name": "stdout",
     "output_type": "stream",
     "text": [
      "233168\n"
     ]
    }
   ],
   "source": [
    "amount = 1\n",
    "is_multiple = []\n",
    "'''\n",
    "    Input:\n",
    "        an integer designating the maximum range \n",
    "    Output:\n",
    "        the sum of all the multiples of 3 and 5 below 1,000\n",
    "'''        \n",
    "        \n",
    "while amount < 1000:\n",
    "    if amount%3 == 0:\n",
    "        is_multiple.append(amount)\n",
    "    elif amount%5 == 0:\n",
    "        is_multiple.append(amount)\n",
    "    amount = amount +1   \n",
    "print(sum(is_multiple))"
   ]
  },
  {
   "cell_type": "markdown",
   "metadata": {},
   "source": [
    "### Challenge 4: String Compressor\n",
    "Implement a method to perform basic string compression using the counts of repeated characters. (This is called run-length encoding.) For example, the string \"aabcccccaaa\" would become a2b1c5a3. If the “compressed” string would not become smaller than the original string, your method should return the original string. You can assume the string has only uppercase and lowercase letters (a–z). Specify whether your solution is case sensitive or case insensitive and what you would need to change to make it the other. Afterward, write a brief explanation walking through your code's logic in markdown."
   ]
  },
  {
   "cell_type": "code",
   "execution_count": 38,
   "metadata": {},
   "outputs": [
    {
     "name": "stdout",
     "output_type": "stream",
     "text": [
      "Please enter a string to test(not case sensitive):aaaBBBccd\n",
      "[['a', 3], ['B', 3], ['c', 2], ['d', 1]]\n"
     ]
    }
   ],
   "source": [
    "strng_exp = input(\"Please enter a string to test(not case sensitive):\")\n",
    "test_str = []\n",
    "number = 1\n",
    "'''\n",
    "    Input:\n",
    "        a string to evaluate\n",
    "        strng_exp\n",
    "    Output:\n",
    "        a compressed string using the counts of repeated characters\n",
    "'''        \n",
    "for i in range(len(strng_exp)):\n",
    "    if i == len(strng_exp)-1:\n",
    "        test_str.append([strng_exp[i],number])\n",
    "    elif strng_exp [i] == strng_exp [i+1]:\n",
    "        number += 1\n",
    "    else:\n",
    "        test_str.append([strng_exp[i],number])\n",
    "        number = 1\n",
    "print(test_str)        \n",
    "        "
   ]
  },
  {
   "cell_type": "markdown",
   "metadata": {},
   "source": [
    "### *BONUS* Challenge: FizzBuzz\n",
    "Write a program that prints all of the numbers from 1 to 100. For multiples of 3, instead of the number, print \"Fizz;\" for multiples of 5, print \"Buzz.\" For numbers that are multiples of both 3 and 5, print \"FizzBuzz.\" Afterward, write a brief explanation walking through your code's logic in markdown."
   ]
  },
  {
   "cell_type": "code",
   "execution_count": 39,
   "metadata": {},
   "outputs": [
    {
     "name": "stdout",
     "output_type": "stream",
     "text": [
      "[1, 2, 'Fizz', 4, 'Buzz', 'Fizz', 7, 8, 'Fizz', 'Buzz', 11, 'Fizz', 13, 14, 'FizzBuzz', 16, 17, 'Fizz', 19, 'Buzz', 'Fizz', 22, 23, 'Fizz', 'Buzz', 26, 'Fizz', 28, 29, 'FizzBuzz', 31, 32, 'Fizz', 34, 'Buzz', 'Fizz', 37, 38, 'Fizz', 'Buzz', 41, 'Fizz', 43, 44, 'FizzBuzz', 46, 47, 'Fizz', 49, 'Buzz', 'Fizz', 52, 53, 'Fizz', 'Buzz', 56, 'Fizz', 58, 59, 'FizzBuzz', 61, 62, 'Fizz', 64, 'Buzz', 'Fizz', 67, 68, 'Fizz', 'Buzz', 71, 'Fizz', 73, 74, 'FizzBuzz', 76, 77, 'Fizz', 79, 'Buzz', 'Fizz', 82, 83, 'Fizz', 'Buzz', 86, 'Fizz', 88, 89, 'FizzBuzz', 91, 92, 'Fizz', 94, 'Buzz', 'Fizz', 97, 98, 'Fizz']\n"
     ]
    }
   ],
   "source": [
    "amount = 1\n",
    "is_multiple = []\n",
    "\n",
    "'''\n",
    "    Input:\n",
    "        an integer designating the maximum range \n",
    "    Output:\n",
    "        all of the number from to the maximum range.  for the multiples of 3, the word\"Fizz\" is printed while\n",
    "        for the multiples of 5, the word \"Buzz\" is printed. for multiples of both 3 and 5, the word \"FizzBuzz\"\n",
    "        is printed.\n",
    "'''\n",
    "while amount < 100:\n",
    "    if amount%3 == 0 and amount%5 == 0:\n",
    "        amount_str = 'FizzBuzz'\n",
    "        is_multiple.append(amount_str)\n",
    "    elif amount%3 == 0:\n",
    "        amount_str = 'Fizz'\n",
    "        is_multiple.append(amount_str)\n",
    "    elif amount%5 ==0:\n",
    "        amount_str = 'Buzz'\n",
    "        is_multiple.append(amount_str)\n",
    "    else:\n",
    "        is_multiple.append(amount)\n",
    "    amount = amount +1   \n",
    "print((is_multiple))"
   ]
  },
  {
   "cell_type": "code",
   "execution_count": null,
   "metadata": {},
   "outputs": [],
   "source": []
  }
 ],
 "metadata": {
  "anaconda-cloud": {},
  "kernelspec": {
   "display_name": "Python 3",
   "language": "python",
   "name": "python3"
  },
  "language_info": {
   "codemirror_mode": {
    "name": "ipython",
    "version": 3
   },
   "file_extension": ".py",
   "mimetype": "text/x-python",
   "name": "python",
   "nbconvert_exporter": "python",
   "pygments_lexer": "ipython3",
   "version": "3.8.3"
  }
 },
 "nbformat": 4,
 "nbformat_minor": 2
}
